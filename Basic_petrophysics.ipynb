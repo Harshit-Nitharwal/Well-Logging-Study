{
 "cells": [
  {
   "cell_type": "markdown",
   "metadata": {},
   "source": [
    "# Well log data loading, visualization, scale"
   ]
  },
  {
   "cell_type": "markdown",
   "metadata": {},
   "source": [
    "First step is to import a LAS (Log Ascii Standard)"
   ]
  },
  {
   "cell_type": "markdown",
   "metadata": {},
   "source": [
    "Then do a quick check of the imported data, renaming header of well-log curve parameter, \n",
    "adjusting presence of outlier either discarding them or fill in with mean value.\n",
    "\n",
    "To identify outlier - do the below steps\n",
    "1. Idenify interpretation zone and choose data from that interval\n",
    "2. Generate histogram of each individual well-log curves (GR, RES, RHOB, DT, NPHI)\n",
    "3. Create pair-plot of group of logs, atleast three log curves\n",
    "4. Generate triple combo plot "
   ]
  },
  {
   "cell_type": "code",
   "execution_count": null,
   "metadata": {},
   "outputs": [
    {
     "ename": "",
     "evalue": "",
     "output_type": "error",
     "traceback": [
      "\u001b[1;31mFailed to start the Kernel. \n",
      "\u001b[1;31mUnable to start Kernel 'base (Python 3.11.5)' due to a timeout waiting for the ports to get used. \n",
      "\u001b[1;31mView Jupyter <a href='command:jupyter.viewOutput'>log</a> for further details."
     ]
    }
   ],
   "source": [
    "# import libraires are crucial part to analyse, visualize data with python\n",
    "import numpy as np\n",
    "import pandas as pd\n",
    "import matplotlib.pyplot as plt\n",
    "import seaborn as sns\n",
    "import lasio"
   ]
  },
  {
   "cell_type": "code",
   "execution_count": null,
   "metadata": {},
   "outputs": [
    {
     "ename": "",
     "evalue": "",
     "output_type": "error",
     "traceback": [
      "\u001b[1;31mFailed to start the Kernel. \n",
      "\u001b[1;31mUnable to start Kernel 'base (Python 3.11.5)' due to a timeout waiting for the ports to get used. \n",
      "\u001b[1;31mView Jupyter <a href='command:jupyter.viewOutput'>log</a> for further details."
     ]
    }
   ],
   "source": [
    "# read the log file; it could be las/csv/txt file\n",
    "#details about lasio module https://lasio.readthedocs.io/en/latest/\n",
    "las = lasio.read('Gorgonichthys_1_suite3_supercombo_log.las')"
   ]
  },
  {
   "cell_type": "code",
   "execution_count": null,
   "metadata": {},
   "outputs": [
    {
     "ename": "",
     "evalue": "",
     "output_type": "error",
     "traceback": [
      "\u001b[1;31mFailed to start the Kernel. \n",
      "\u001b[1;31mUnable to start Kernel 'base (Python 3.11.5)' due to a timeout waiting for the ports to get used. \n",
      "\u001b[1;31mView Jupyter <a href='command:jupyter.viewOutput'>log</a> for further details."
     ]
    }
   ],
   "source": [
    "# curve mnemonic, unit, data shape\n",
    "las.curves"
   ]
  },
  {
   "cell_type": "code",
   "execution_count": null,
   "metadata": {},
   "outputs": [
    {
     "ename": "",
     "evalue": "",
     "output_type": "error",
     "traceback": [
      "\u001b[1;31mFailed to start the Kernel. \n",
      "\u001b[1;31mUnable to start Kernel 'base (Python 3.11.5)' due to a timeout waiting for the ports to get used. \n",
      "\u001b[1;31mView Jupyter <a href='command:jupyter.viewOutput'>log</a> for further details."
     ]
    }
   ],
   "source": [
    "# quick look of data \n",
    "las.data"
   ]
  },
  {
   "cell_type": "code",
   "execution_count": null,
   "metadata": {},
   "outputs": [
    {
     "ename": "",
     "evalue": "",
     "output_type": "error",
     "traceback": [
      "\u001b[1;31mFailed to start the Kernel. \n",
      "\u001b[1;31mUnable to start Kernel 'base (Python 3.11.5)' due to a timeout waiting for the ports to get used. \n",
      "\u001b[1;31mView Jupyter <a href='command:jupyter.viewOutput'>log</a> for further details."
     ]
    }
   ],
   "source": [
    "# convert to a pandas dataframe as it makes exploratory data analysis easier\n",
    "data1 = las.df()"
   ]
  },
  {
   "cell_type": "code",
   "execution_count": null,
   "metadata": {},
   "outputs": [
    {
     "ename": "",
     "evalue": "",
     "output_type": "error",
     "traceback": [
      "\u001b[1;31mFailed to start the Kernel. \n",
      "\u001b[1;31mUnable to start Kernel 'base (Python 3.11.5)' due to a timeout waiting for the ports to get used. \n",
      "\u001b[1;31mView Jupyter <a href='command:jupyter.viewOutput'>log</a> for further details."
     ]
    }
   ],
   "source": [
    "# display few rows of data\n",
    "print(data1)"
   ]
  },
  {
   "cell_type": "code",
   "execution_count": null,
   "metadata": {},
   "outputs": [
    {
     "ename": "",
     "evalue": "",
     "output_type": "error",
     "traceback": [
      "\u001b[1;31mFailed to start the Kernel. \n",
      "\u001b[1;31mUnable to start Kernel 'base (Python 3.11.5)' due to a timeout waiting for the ports to get used. \n",
      "\u001b[1;31mView Jupyter <a href='command:jupyter.viewOutput'>log</a> for further details."
     ]
    }
   ],
   "source": [
    "#description of column\n",
    "data1.columns"
   ]
  },
  {
   "cell_type": "code",
   "execution_count": null,
   "metadata": {},
   "outputs": [
    {
     "ename": "",
     "evalue": "",
     "output_type": "error",
     "traceback": [
      "\u001b[1;31mFailed to start the Kernel. \n",
      "\u001b[1;31mUnable to start Kernel 'base (Python 3.11.5)' due to a timeout waiting for the ports to get used. \n",
      "\u001b[1;31mView Jupyter <a href='command:jupyter.viewOutput'>log</a> for further details."
     ]
    }
   ],
   "source": [
    "# We need to reset index to make depth as column \n",
    "data2= data1.reset_index()"
   ]
  },
  {
   "cell_type": "code",
   "execution_count": null,
   "metadata": {},
   "outputs": [
    {
     "ename": "",
     "evalue": "",
     "output_type": "error",
     "traceback": [
      "\u001b[1;31mFailed to start the Kernel. \n",
      "\u001b[1;31mUnable to start Kernel 'base (Python 3.11.5)' due to a timeout waiting for the ports to get used. \n",
      "\u001b[1;31mView Jupyter <a href='command:jupyter.viewOutput'>log</a> for further details."
     ]
    }
   ],
   "source": [
    "# recheck following reset of index about data column and you can observe 'DEPTH:1' is inside the columns\n",
    "data2.columns"
   ]
  },
  {
   "cell_type": "code",
   "execution_count": null,
   "metadata": {},
   "outputs": [
    {
     "ename": "",
     "evalue": "",
     "output_type": "error",
     "traceback": [
      "\u001b[1;31mFailed to start the Kernel. \n",
      "\u001b[1;31mUnable to start Kernel 'base (Python 3.11.5)' due to a timeout waiting for the ports to get used. \n",
      "\u001b[1;31mView Jupyter <a href='command:jupyter.viewOutput'>log</a> for further details."
     ]
    }
   ],
   "source": [
    "# rename any of the header definination -  standard header name is helpful for interpretation.\n",
    "data2 = data2.rename(columns=({'DEPTH:1': 'DEPTH', 'GR_BPC': 'GR', 'HCAL_BPC':'CAL','DEPTH:2': 'DEPTH_2',\n",
    "                               'NPOR_BPC':'NPHI','BS_BPC':'BS','RHOZ_BPC':'RHOB' ,'RLA5_BPC':'RESD', \n",
    "                               'RXOZ_BPC':'RXO','PEFZ_BPC':'PE' }))"
   ]
  },
  {
   "cell_type": "code",
   "execution_count": null,
   "metadata": {},
   "outputs": [
    {
     "ename": "",
     "evalue": "",
     "output_type": "error",
     "traceback": [
      "\u001b[1;31mFailed to start the Kernel. \n",
      "\u001b[1;31mUnable to start Kernel 'base (Python 3.11.5)' due to a timeout waiting for the ports to get used. \n",
      "\u001b[1;31mView Jupyter <a href='command:jupyter.viewOutput'>log</a> for further details."
     ]
    }
   ],
   "source": [
    "#recheck column name after rename of the header\n",
    "data2.columns"
   ]
  },
  {
   "cell_type": "code",
   "execution_count": null,
   "metadata": {},
   "outputs": [
    {
     "ename": "",
     "evalue": "",
     "output_type": "error",
     "traceback": [
      "\u001b[1;31mFailed to start the Kernel. \n",
      "\u001b[1;31mUnable to start Kernel 'base (Python 3.11.5)' due to a timeout waiting for the ports to get used. \n",
      "\u001b[1;31mView Jupyter <a href='command:jupyter.viewOutput'>log</a> for further details."
     ]
    }
   ],
   "source": [
    "#statistics of the dataframe, here dataframe name is - data2\n",
    "data2.describe()"
   ]
  },
  {
   "cell_type": "markdown",
   "metadata": {},
   "source": [
    "Histogram plot of different log curves "
   ]
  },
  {
   "cell_type": "code",
   "execution_count": null,
   "metadata": {},
   "outputs": [
    {
     "ename": "",
     "evalue": "",
     "output_type": "error",
     "traceback": [
      "\u001b[1;31mFailed to start the Kernel. \n",
      "\u001b[1;31mUnable to start Kernel 'base (Python 3.11.5)' due to a timeout waiting for the ports to get used. \n",
      "\u001b[1;31mView Jupyter <a href='command:jupyter.viewOutput'>log</a> for further details."
     ]
    }
   ],
   "source": [
    "#script to plot histogram of GR and RHOB log (default type of plot)\n",
    "#Also drop any nan value during histogram plot \n",
    "plt.figure(figsize=(12,4))\n",
    "plt.subplot(121)\n",
    "plt.hist(data2.GR.dropna())\n",
    "plt.xlabel('GR')\n",
    "plt.ylabel('Frequency')\n",
    "\n",
    "plt.subplot(122)\n",
    "plt.hist(data2.RHOB.dropna())\n",
    "plt.xlabel('RHOB')\n",
    "plt.ylabel('Frequency')"
   ]
  },
  {
   "cell_type": "code",
   "execution_count": null,
   "metadata": {},
   "outputs": [
    {
     "ename": "",
     "evalue": "",
     "output_type": "error",
     "traceback": [
      "\u001b[1;31mFailed to start the Kernel. \n",
      "\u001b[1;31mUnable to start Kernel 'base (Python 3.11.5)' due to a timeout waiting for the ports to get used. \n",
      "\u001b[1;31mView Jupyter <a href='command:jupyter.viewOutput'>log</a> for further details."
     ]
    }
   ],
   "source": [
    "# histogram plot with user modified bin size, colour, etc \n",
    "data2['GR'].plot(kind='hist', bins=40, density=True, edgecolor='black')"
   ]
  },
  {
   "cell_type": "code",
   "execution_count": null,
   "metadata": {},
   "outputs": [
    {
     "ename": "",
     "evalue": "",
     "output_type": "error",
     "traceback": [
      "\u001b[1;31mFailed to start the Kernel. \n",
      "\u001b[1;31mUnable to start Kernel 'base (Python 3.11.5)' due to a timeout waiting for the ports to get used. \n",
      "\u001b[1;31mView Jupyter <a href='command:jupyter.viewOutput'>log</a> for further details."
     ]
    }
   ],
   "source": [
    "# Another way to display histogram with percentile, mean, and probability distribution function\n",
    "# Kernel density estimation (KDE) is a non-parametric method for \n",
    "# estimating the probability density function of a given random variable\n",
    "data2['GR'].plot(kind='hist', bins=40, density=True,edgecolor='black')\n",
    "data2['GR'].plot(kind='kde',color='black')\n",
    "plt.xlabel('GR[API]', fontsize=14)\n",
    "mean=data2['GR'].mean()\n",
    "p05=data2.GR.quantile(0.05)\n",
    "p95=data2.GR.quantile(0.95)\n",
    "plt.axvline(mean,color='g',label='mean')\n",
    "plt.axvline(p05,color='r',label='p5')\n",
    "plt.axvline(p95,color='y',label='p95')\n",
    "plt.legend()\n",
    "plt.xlim(0,200)\n",
    "print('Mean value, p5 and p95 values are:', mean, p05,p95)"
   ]
  },
  {
   "attachments": {
    "image.png": {
     "image/png": "[encoded data removed]"
    }
   },
   "cell_type": "markdown",
   "metadata": {},
   "source": [
    "Explanation of Pandas DataFrame\n",
    "Pandas DataFrame is a 2-D labeled data structure with columns of potentially different type.\n",
    "![image.png](attachment:image.png)"
   ]
  },
  {
   "cell_type": "code",
   "execution_count": null,
   "metadata": {},
   "outputs": [
    {
     "ename": "",
     "evalue": "",
     "output_type": "error",
     "traceback": [
      "\u001b[1;31mFailed to start the Kernel. \n",
      "\u001b[1;31mUnable to start Kernel 'base (Python 3.11.5)' due to a timeout waiting for the ports to get used. \n",
      "\u001b[1;31mView Jupyter <a href='command:jupyter.viewOutput'>log</a> for further details."
     ]
    }
   ],
   "source": [
    "#Example of simple 1-D plot of GR and RHOB log curves. \n",
    "# Always plot increasing depth in the downward direction. \n",
    "plt.figure(1,figsize=(8,6))\n",
    "plt.subplot(121)\n",
    "plt.plot(data2.GR, data2['DEPTH'])\n",
    "plt.ylim(1880,1810)\n",
    "plt.xlabel('GR [API]')\n",
    "plt.ylabel('Depth [m]')\n",
    "\n",
    "plt.subplot(122)\n",
    "plt.plot(data2.RHOB, data2['DEPTH'])\n",
    "plt.ylim(1880,1810)\n",
    "plt.xlabel('RHOB [g/cm3]')"
   ]
  },
  {
   "cell_type": "code",
   "execution_count": null,
   "metadata": {},
   "outputs": [
    {
     "ename": "",
     "evalue": "",
     "output_type": "error",
     "traceback": [
      "\u001b[1;31mFailed to start the Kernel. \n",
      "\u001b[1;31mUnable to start Kernel 'base (Python 3.11.5)' due to a timeout waiting for the ports to get used. \n",
      "\u001b[1;31mView Jupyter <a href='command:jupyter.viewOutput'>log</a> for further details."
     ]
    }
   ],
   "source": [
    "# In the previous plot, we are displaying 70m data in small visualization window. \n",
    "# To notice obvious changes of log data, \n",
    "plt.figure(1,figsize=(8,6))\n",
    "plt.subplot(121)\n",
    "plt.plot(data2.GR, data2['DEPTH'])\n",
    "plt.ylim(1880,1850)\n",
    "\n",
    "plt.subplot(122)\n",
    "plt.plot(data2.RHOZ_BPC, data2['DEPTH'])\n",
    "\n",
    "plt.ylim(1880,1850)"
   ]
  },
  {
   "cell_type": "code",
   "execution_count": null,
   "metadata": {},
   "outputs": [
    {
     "ename": "",
     "evalue": "",
     "output_type": "error",
     "traceback": [
      "\u001b[1;31mFailed to start the Kernel. \n",
      "\u001b[1;31mUnable to start Kernel 'base (Python 3.11.5)' due to a timeout waiting for the ports to get used. \n",
      "\u001b[1;31mView Jupyter <a href='command:jupyter.viewOutput'>log</a> for further details."
     ]
    }
   ],
   "source": [
    "# Histogram plot of GR, SP, NPHI, RHOB\n",
    "logs = data.copy()\n",
    "plt.figure(1, figsize=(8,6))\n",
    "plt.subplot(221)\n",
    "plt.hist(logs.GR.dropna(), bins=15, color='g', edgecolor='k')\n",
    "plt.xlabel('GR[API]')\n",
    "plt.ylabel('Frequency')\n",
    "#plt.xlim(0,150)\n",
    "#plt.grid(True)\n",
    "\n",
    "plt.subplot(222)\n",
    "plt.hist(logs.RXO8.dropna(), bins=15, color='b', edgecolor='k')\n",
    "plt.xlabel('Resistivity[ohm-m]')\n",
    "plt.ylabel('Frequency')\n",
    "#plt.grid(True)\n",
    "\n",
    "plt.subplot(223)\n",
    "plt.hist(logs.NPHI.dropna(), bins=15, color='c', edgecolor='k')\n",
    "plt.xlabel('NPHI[frac]')\n",
    "plt.ylabel('Frequency')\n",
    "#plt.grid(True)\n",
    "\n",
    "plt.subplot(224)\n",
    "plt.hist(logs.RHOB.dropna(), bins=15, color='r', edgecolor='k')\n",
    "plt.xlabel('RHOB[g/cc]')\n",
    "plt.ylabel('Frequency')\n",
    "#plt.grid(True)\n",
    "\n",
    "#plt.subplots_adjust(top=1.2, bottom=.1, left=0.10, right=0.9, hspace=0.25, wspace=0.35)\n",
    "#plt.savefig('histogram_v2.png', dpi =250, format = 'png')"
   ]
  },
  {
   "cell_type": "code",
   "execution_count": null,
   "metadata": {},
   "outputs": [
    {
     "ename": "",
     "evalue": "",
     "output_type": "error",
     "traceback": [
      "\u001b[1;31mFailed to start the Kernel. \n",
      "\u001b[1;31mUnable to start Kernel 'base (Python 3.11.5)' due to a timeout waiting for the ports to get used. \n",
      "\u001b[1;31mView Jupyter <a href='command:jupyter.viewOutput'>log</a> for further details."
     ]
    }
   ],
   "source": [
    "data.describe()"
   ]
  },
  {
   "cell_type": "code",
   "execution_count": null,
   "metadata": {},
   "outputs": [
    {
     "ename": "",
     "evalue": "",
     "output_type": "error",
     "traceback": [
      "\u001b[1;31mFailed to start the Kernel. \n",
      "\u001b[1;31mUnable to start Kernel 'base (Python 3.11.5)' due to a timeout waiting for the ports to get used. \n",
      "\u001b[1;31mView Jupyter <a href='command:jupyter.viewOutput'>log</a> for further details."
     ]
    }
   ],
   "source": [
    "# drop unnecessary columns not required for further analysis\n",
    "col_rm = ['BitSize', 'MudWgt']\n",
    "data.drop(col_rm, axis=1, inplace=True)"
   ]
  },
  {
   "cell_type": "code",
   "execution_count": null,
   "metadata": {},
   "outputs": [
    {
     "ename": "",
     "evalue": "",
     "output_type": "error",
     "traceback": [
      "\u001b[1;31mFailed to start the Kernel. \n",
      "\u001b[1;31mUnable to start Kernel 'base (Python 3.11.5)' due to a timeout waiting for the ports to get used. \n",
      "\u001b[1;31mView Jupyter <a href='command:jupyter.viewOutput'>log</a> for further details."
     ]
    }
   ],
   "source": []
  },
  {
   "cell_type": "code",
   "execution_count": null,
   "metadata": {},
   "outputs": [
    {
     "ename": "",
     "evalue": "",
     "output_type": "error",
     "traceback": [
      "\u001b[1;31mFailed to start the Kernel. \n",
      "\u001b[1;31mUnable to start Kernel 'base (Python 3.11.5)' due to a timeout waiting for the ports to get used. \n",
      "\u001b[1;31mView Jupyter <a href='command:jupyter.viewOutput'>log</a> for further details."
     ]
    }
   ],
   "source": [
    "# recheck the columns if the follwoing columns are dropped or not\n",
    "data.columns"
   ]
  },
  {
   "cell_type": "code",
   "execution_count": null,
   "metadata": {},
   "outputs": [
    {
     "ename": "",
     "evalue": "",
     "output_type": "error",
     "traceback": [
      "\u001b[1;31mFailed to start the Kernel. \n",
      "\u001b[1;31mUnable to start Kernel 'base (Python 3.11.5)' due to a timeout waiting for the ports to get used. \n",
      "\u001b[1;31mView Jupyter <a href='command:jupyter.viewOutput'>log</a> for further details."
     ]
    }
   ],
   "source": [
    "# rename any of the header definination\n",
    "data = data.rename(columns=({'M__DEPTH': 'DEPTH'}))"
   ]
  },
  {
   "cell_type": "markdown",
   "metadata": {},
   "source": [
    "# Basic statistical check of the file like mean, std, min, max\n"
   ]
  },
  {
   "cell_type": "code",
   "execution_count": null,
   "metadata": {},
   "outputs": [
    {
     "ename": "",
     "evalue": "",
     "output_type": "error",
     "traceback": [
      "\u001b[1;31mFailed to start the Kernel. \n",
      "\u001b[1;31mUnable to start Kernel 'base (Python 3.11.5)' due to a timeout waiting for the ports to get used. \n",
      "\u001b[1;31mView Jupyter <a href='command:jupyter.viewOutput'>log</a> for further details."
     ]
    }
   ],
   "source": [
    "# adding extra additional 5 percentile and 95 percentiles\n",
    "data.describe(percentiles=[0.05, .25,.5,.75,.95])"
   ]
  },
  {
   "cell_type": "code",
   "execution_count": null,
   "metadata": {},
   "outputs": [
    {
     "ename": "",
     "evalue": "",
     "output_type": "error",
     "traceback": [
      "\u001b[1;31mFailed to start the Kernel. \n",
      "\u001b[1;31mUnable to start Kernel 'base (Python 3.11.5)' due to a timeout waiting for the ports to get used. \n",
      "\u001b[1;31mView Jupyter <a href='command:jupyter.viewOutput'>log</a> for further details."
     ]
    }
   ],
   "source": [
    "# replacing non recording values as nan\n",
    "ip_log = data.replace(-999.00000, np.nan)"
   ]
  },
  {
   "cell_type": "code",
   "execution_count": null,
   "metadata": {},
   "outputs": [
    {
     "ename": "",
     "evalue": "",
     "output_type": "error",
     "traceback": [
      "\u001b[1;31mFailed to start the Kernel. \n",
      "\u001b[1;31mUnable to start Kernel 'base (Python 3.11.5)' due to a timeout waiting for the ports to get used. \n",
      "\u001b[1;31mView Jupyter <a href='command:jupyter.viewOutput'>log</a> for further details."
     ]
    }
   ],
   "source": [
    "# statistic to check drop of the non recording values\n",
    "ip_log.describe()"
   ]
  },
  {
   "cell_type": "markdown",
   "metadata": {},
   "source": [
    "We will check how many values are nan in this data frame using for loop"
   ]
  },
  {
   "cell_type": "code",
   "execution_count": null,
   "metadata": {},
   "outputs": [
    {
     "ename": "",
     "evalue": "",
     "output_type": "error",
     "traceback": [
      "\u001b[1;31mFailed to start the Kernel. \n",
      "\u001b[1;31mUnable to start Kernel 'base (Python 3.11.5)' due to a timeout waiting for the ports to get used. \n",
      "\u001b[1;31mView Jupyter <a href='command:jupyter.viewOutput'>log</a> for further details."
     ]
    }
   ],
   "source": [
    "for m in ip_log.columns:\n",
    "    print(m, ip_log[m].isnull().values.any())\n",
    "print(ip_log.isnull().sum())"
   ]
  },
  {
   "cell_type": "code",
   "execution_count": null,
   "metadata": {},
   "outputs": [
    {
     "ename": "",
     "evalue": "",
     "output_type": "error",
     "traceback": [
      "\u001b[1;31mFailed to start the Kernel. \n",
      "\u001b[1;31mUnable to start Kernel 'base (Python 3.11.5)' due to a timeout waiting for the ports to get used. \n",
      "\u001b[1;31mView Jupyter <a href='command:jupyter.viewOutput'>log</a> for further details."
     ]
    }
   ],
   "source": [
    "# assigning index location\n",
    "ip_log = ip_log.iloc[:,:]"
   ]
  },
  {
   "cell_type": "code",
   "execution_count": null,
   "metadata": {},
   "outputs": [
    {
     "ename": "",
     "evalue": "",
     "output_type": "error",
     "traceback": [
      "\u001b[1;31mFailed to start the Kernel. \n",
      "\u001b[1;31mUnable to start Kernel 'base (Python 3.11.5)' due to a timeout waiting for the ports to get used. \n",
      "\u001b[1;31mView Jupyter <a href='command:jupyter.viewOutput'>log</a> for further details."
     ]
    }
   ],
   "source": [
    "# Again looking first five line of the dataframe\n",
    "ip_log.head(5)"
   ]
  },
  {
   "cell_type": "code",
   "execution_count": null,
   "metadata": {},
   "outputs": [
    {
     "ename": "",
     "evalue": "",
     "output_type": "error",
     "traceback": [
      "\u001b[1;31mFailed to start the Kernel. \n",
      "\u001b[1;31mUnable to start Kernel 'base (Python 3.11.5)' due to a timeout waiting for the ports to get used. \n",
      "\u001b[1;31mView Jupyter <a href='command:jupyter.viewOutput'>log</a> for further details."
     ]
    }
   ],
   "source": [
    "# replace nan values by mean value of the log measurment\n",
    "ip_log['RHOB'].fillna(ip_log['RHOB'].mean(),inplace=True)\n",
    "ip_log['SP'].fillna(ip_log['SP'].mean(), inplace=True)\n",
    "ip_log['DT'].fillna(ip_log['DT'].mean(), inplace=True)\n",
    "ip_log['GR'].fillna(ip_log['GR'].mean(), inplace=True)\n",
    "ip_log['CALI'].fillna(ip_log['CALI'].mean(), inplace=True)\n",
    "#ip_log['LL8'].fillna(ip_log['LL8'].mean(), inplace=True)\n",
    "ip_log['ILM'].fillna(ip_log['ILM'].mean(), inplace=True)\n",
    "ip_log['ILD'].fillna(ip_log['ILD'].mean(), inplace=True)\n",
    "ip_log['NPHI'].fillna(ip_log['NPHI'].mean(), inplace=True)"
   ]
  },
  {
   "cell_type": "markdown",
   "metadata": {},
   "source": [
    "Checking of any outlier through dispalying Pair-plot"
   ]
  },
  {
   "cell_type": "code",
   "execution_count": null,
   "metadata": {},
   "outputs": [
    {
     "ename": "",
     "evalue": "",
     "output_type": "error",
     "traceback": [
      "\u001b[1;31mFailed to start the Kernel. \n",
      "\u001b[1;31mUnable to start Kernel 'base (Python 3.11.5)' due to a timeout waiting for the ports to get used. \n",
      "\u001b[1;31mView Jupyter <a href='command:jupyter.viewOutput'>log</a> for further details."
     ]
    }
   ],
   "source": [
    "# recheck if all values are replace with mean \n",
    "for m in ip_log.columns:\n",
    "    print(m, ip_log[m].isnull().values.any())\n",
    "print(ip_log.isnull().sum())"
   ]
  },
  {
   "cell_type": "code",
   "execution_count": null,
   "metadata": {},
   "outputs": [
    {
     "ename": "",
     "evalue": "",
     "output_type": "error",
     "traceback": [
      "\u001b[1;31mFailed to start the Kernel. \n",
      "\u001b[1;31mUnable to start Kernel 'base (Python 3.11.5)' due to a timeout waiting for the ports to get used. \n",
      "\u001b[1;31mView Jupyter <a href='command:jupyter.viewOutput'>log</a> for further details."
     ]
    }
   ],
   "source": [
    "# Now all nan value should be replace by mean value; this a choice we need to made\n",
    "ip_log.head(5)"
   ]
  },
  {
   "cell_type": "code",
   "execution_count": null,
   "metadata": {},
   "outputs": [
    {
     "ename": "",
     "evalue": "",
     "output_type": "error",
     "traceback": [
      "\u001b[1;31mFailed to start the Kernel. \n",
      "\u001b[1;31mUnable to start Kernel 'base (Python 3.11.5)' due to a timeout waiting for the ports to get used. \n",
      "\u001b[1;31mView Jupyter <a href='command:jupyter.viewOutput'>log</a> for further details."
     ]
    }
   ],
   "source": [
    "# pair plot between each log and its histogram\n",
    "\n",
    "grid = sns.PairGrid(ip_log, vars=['DEPTH','GR','RHOB', 'NPHI','DT'] )\n",
    "grid.map_diag(plt.hist, edgecolor='w')\n",
    "grid.map_offdiag(plt.scatter, color='g', edgecolor='W', linewidth=0.1)\n",
    "plt.savefig('WA1_pairgrid_four_plot.png', dpi=250)"
   ]
  },
  {
   "cell_type": "markdown",
   "metadata": {},
   "source": [
    "Add formation tops to display on the log plot"
   ]
  },
  {
   "cell_type": "code",
   "execution_count": null,
   "metadata": {},
   "outputs": [
    {
     "ename": "",
     "evalue": "",
     "output_type": "error",
     "traceback": [
      "\u001b[1;31mFailed to start the Kernel. \n",
      "\u001b[1;31mUnable to start Kernel 'base (Python 3.11.5)' due to a timeout waiting for the ports to get used. \n",
      "\u001b[1;31mView Jupyter <a href='command:jupyter.viewOutput'>log</a> for further details."
     ]
    }
   ],
   "source": [
    "tops = ('Torok','Pebble SH','Walakpa SS', 'J-Klingak','Barrow SS','Klingak SH','T-Sag River SS', 'Shublik','Basement')\n",
    "tops_depths=(100,1701,2071,2087,2990, 3102,3224,3258,3633)"
   ]
  },
  {
   "cell_type": "markdown",
   "metadata": {},
   "source": [
    "# 2. Display the Log (Mainly triple combo log)"
   ]
  },
  {
   "cell_type": "code",
   "execution_count": null,
   "metadata": {},
   "outputs": [
    {
     "ename": "",
     "evalue": "",
     "output_type": "error",
     "traceback": [
      "\u001b[1;31mFailed to start the Kernel. \n",
      "\u001b[1;31mUnable to start Kernel 'base (Python 3.11.5)' due to a timeout waiting for the ports to get used. \n",
      "\u001b[1;31mView Jupyter <a href='command:jupyter.viewOutput'>log</a> for further details."
     ]
    }
   ],
   "source": [
    "# call the triple combo function as defined\n",
    "def triple_combo_log(top_depth,bottom_depth):\n",
    "    \n",
    "    logs=ip_log[(ip_log.DEPTH >= top_depth) & (ip_log.DEPTH <= bottom_depth)]\n",
    "    fig, ax = plt.subplots(nrows=1, ncols=3, figsize=(12,12), sharey=True)\n",
    "    fig.suptitle(\"Triple-combo Log display\", fontsize=24)\n",
    "    fig.subplots_adjust(top=0.75,wspace=0.1)\n",
    "    \n",
    "# setting for all axes\n",
    "    for axes in ax:\n",
    "        axes.set_ylim (top_depth,bottom_depth)\n",
    "        axes.invert_yaxis()\n",
    "        axes.yaxis.grid(True)\n",
    "        axes.get_xaxis().set_visible(False)\n",
    "        for (i,j) in zip(tops_depths,tops):\n",
    "            if ((i>=top_depth) and (i<=bottom_depth)):\n",
    "                axes.axhline(y=i, linewidth=0.5, color='black')\n",
    "                axes.text(0.1, i ,j, horizontalalignment='center',\n",
    "                          verticalalignment='center')\n",
    "#First track GR, CALI, SP logs to display\n",
    "        ax1 = ax[0].twiny()\n",
    "        ax1.set_xlim(-100,0)\n",
    "        ax1.spines['top'].set_position(('outward',0))\n",
    "        ax1.plot(logs.SP, logs.DEPTH, '-b', label= \"SP (mV)\")\n",
    "        ax1.set_xlabel('SP(mV)',color='b')    \n",
    "        ax1.tick_params(axis='x', colors='b')\n",
    "        ax1.grid(True)\n",
    "        \n",
    "        ax2 = ax[0].twiny()\n",
    "        ax2.set_xlim(0, 16)\n",
    "        ax2.spines['top'].set_position(('outward', 40))\n",
    "        ax2.plot(logs.CALI, logs.DEPTH, '--k', label= \"CALI (in)\")\n",
    "        ax2.set_xlabel('CALI(in)', color ='k')\n",
    "        ax2.tick_params(axis='x', colors='k')\n",
    "        \n",
    "        ax3 = ax[0].twiny()\n",
    "        ax3.set_xlim(0,150)\n",
    "        ax3.spines['top'].set_position(('outward', 80))\n",
    "        ax3.plot(logs.GR, logs.DEPTH, '-g', label= \"GR (API)\")\n",
    "        ax3.set_xlabel('GR(API)', color= 'g')\n",
    "        ax3.tick_params(axis='x', colors='g')\n",
    "        \n",
    "\n",
    "# Second track resitivity plot\n",
    "        ax11 = ax[1].twiny()\n",
    "        ax11.set_xlim(0.1, 1000)\n",
    "        ax11.set_xscale('log')\n",
    "        ax11.grid(True)\n",
    "        ax11.spines['top'].set_position(('outward', 80))\n",
    "        ax11.plot(logs.ILD, logs.DEPTH, '-r', label=\"ILD (m.ohm)\")\n",
    "        ax11.set_xlabel('ILD(m.ohm)', color = 'r')\n",
    "        ax11.tick_params(axis='x', colors='r')\n",
    "        \n",
    "         \n",
    "        ax12 = ax[1].twiny()\n",
    "        ax12.set_xlim(0.1, 1000)\n",
    "        ax12.set_xscale('log')\n",
    "        ax12.spines['top'].set_position(('outward', 40))\n",
    "        ax12.plot(logs.ILM, logs.DEPTH, '-m', label= \"ILM (m.ohm)\")\n",
    "        ax12.set_xlabel('ILM(m.ohm)', color= 'm')\n",
    "        ax12.tick_params(axis='x', colors='m')\n",
    "         \n",
    "        ax13 = ax[1].twiny()\n",
    "        ax13.set_xlim(0.1, 1000)\n",
    "        ax13.set_xscale('log')\n",
    "        ax13.spines['top'].set_position(('outward', 0))\n",
    "        ax13.plot(logs.LL8, logs.DEPTH, '-k', label=\"LL8 (m.ohm)\")\n",
    "        ax13.set_xlabel('RESS(m.ohm)', color = 'k')\n",
    "        ax13.tick_params(axis='x', colors='k')\n",
    "         \n",
    "# Third track NPHI, RHO, DT display\n",
    "        ax21 = ax[2].twiny()\n",
    "        ax21.grid(True)\n",
    "        ax21.set_xlim(140,40)\n",
    "        ax21.spines['top'].set_position(('outward', 0))\n",
    "        ax21.plot(logs.DT, logs.DEPTH, '-b', label= \"DT (us/ft)\")\n",
    "        ax21.set_xlabel('DT(us/ft)', color= 'b')\n",
    "        ax21.tick_params(axis='x', colors= 'b')\n",
    "        \n",
    "         \n",
    "        ax22 = ax[2].twiny()\n",
    "        ax22.set_xlim(0, 60)\n",
    "        ax22.invert_xaxis()\n",
    "        ax22.spines['top'].set_position(('outward', 40))\n",
    "        ax22.plot(logs.NPHI, logs.DEPTH, '--k', label = \"NPHI (%)\")\n",
    "        ax22.set_xlabel('NPHI(%)', color = 'k')\n",
    "        ax22.tick_params(axis= 'x', colors='k')\n",
    "         \n",
    "        ax23 = ax[2].twiny()\n",
    "        ax23.set_xlim(1.95, 2.95)\n",
    "        ax23.spines['top'].set_position(('outward', 80))\n",
    "        ax23.plot(logs.RHOB, logs.DEPTH, '-r', label= \"RHOB (g/cc)\")\n",
    "        ax23.set_xlabel('RHOB(g/cc)', color = 'r')\n",
    "        ax23.tick_params(axis='x', colors= 'r')"
   ]
  },
  {
   "cell_type": "code",
   "execution_count": null,
   "metadata": {},
   "outputs": [
    {
     "ename": "",
     "evalue": "",
     "output_type": "error",
     "traceback": [
      "\u001b[1;31mFailed to start the Kernel. \n",
      "\u001b[1;31mUnable to start Kernel 'base (Python 3.11.5)' due to a timeout waiting for the ports to get used. \n",
      "\u001b[1;31mView Jupyter <a href='command:jupyter.viewOutput'>log</a> for further details."
     ]
    }
   ],
   "source": [
    "# Lets display the whole log at a glance\n",
    "triple_combo_log(ip_log.DEPTH.min(), ip_log.DEPTH.max())\n",
    "plt.savefig('Triple_combo_WA1_full_plot.png', dpi=250)"
   ]
  },
  {
   "cell_type": "markdown",
   "metadata": {},
   "source": [
    "# Select particular zone of interest"
   ]
  },
  {
   "cell_type": "markdown",
   "metadata": {},
   "source": [
    "Choose top_depth and bottom depth"
   ]
  },
  {
   "cell_type": "code",
   "execution_count": null,
   "metadata": {},
   "outputs": [
    {
     "ename": "",
     "evalue": "",
     "output_type": "error",
     "traceback": [
      "\u001b[1;31mFailed to start the Kernel. \n",
      "\u001b[1;31mUnable to start Kernel 'base (Python 3.11.5)' due to a timeout waiting for the ports to get used. \n",
      "\u001b[1;31mView Jupyter <a href='command:jupyter.viewOutput'>log</a> for further details."
     ]
    }
   ],
   "source": [
    "top_depth = 1940 \n",
    "bottom_depth=2180\n",
    "triple_combo_log(top_depth, bottom_depth)\n",
    "plt.savefig('Triple_combo_WA1_1940-2180m.png', dpi=250)"
   ]
  },
  {
   "cell_type": "markdown",
   "metadata": {},
   "source": [
    "# 3. Volumetric compuation of clay/Then convert to shale "
   ]
  },
  {
   "cell_type": "markdown",
   "metadata": {},
   "source": [
    "various method available to compute clay volume present within a formation lithology:\n",
    "Either single log or  dual log methods.\n",
    "Single log: GR log, Spontanteous potential, Resistivity \n",
    "Dual method: Neutron-density, it is a cross-plot methods where we need to identify clay line and clean line"
   ]
  },
  {
   "cell_type": "code",
   "execution_count": null,
   "metadata": {},
   "outputs": [
    {
     "ename": "",
     "evalue": "",
     "output_type": "error",
     "traceback": [
      "\u001b[1;31mFailed to start the Kernel. \n",
      "\u001b[1;31mUnable to start Kernel 'base (Python 3.11.5)' due to a timeout waiting for the ports to get used. \n",
      "\u001b[1;31mView Jupyter <a href='command:jupyter.viewOutput'>log</a> for further details."
     ]
    }
   ],
   "source": [
    "# Vcl as a function of gamma ray index/clay index\n",
    "\n",
    "import numpy as np\n",
    "import matplotlib.pyplot as plt\n",
    "import pandas as pd\n",
    "import math\n",
    "GRI = np.arange(0,1.10,.1) # clay index from 0 to 1 with step of .1\n",
    "\n",
    "def vclGR(i):\n",
    "    return i\n",
    "def vclGR_claiver(i):\n",
    "    return 1.7 - ((3.38 - (i + 0.7)**2))**.5\n",
    "def vclGR_steiber(i):\n",
    "    return i /(3 - 2*i)\n",
    "def vclGR_larionov_younger(i):\n",
    "    return 0.083 * (2**(3.7* i) -1)\n",
    "def vclGR_larionov_older(i):\n",
    "    return 0.33 *(2**(2*i) -1)\n",
    "\n",
    "#vclGR = Icl # linear\n",
    "#vclGR_claiver = 1.7 - ((3.38 - (Icl + 0.7)**2))**.5\n",
    "#vclGR_steiber = Icl /(3 - 2*Icl)\n",
    "#vclGR_larionov_younger = 0.083 * (2**(3.7* Icl) -1)\n",
    "#vclGR_larionov_older = 0.33 *(2**(2*Icl) -1)\n"
   ]
  },
  {
   "cell_type": "code",
   "execution_count": null,
   "metadata": {},
   "outputs": [
    {
     "ename": "",
     "evalue": "",
     "output_type": "error",
     "traceback": [
      "\u001b[1;31mFailed to start the Kernel. \n",
      "\u001b[1;31mUnable to start Kernel 'base (Python 3.11.5)' due to a timeout waiting for the ports to get used. \n",
      "\u001b[1;31mView Jupyter <a href='command:jupyter.viewOutput'>log</a> for further details."
     ]
    }
   ],
   "source": [
    "\n",
    "# Icl vs vclGR plot\n",
    "fig, ax = plt.subplots()\n",
    "ax.plot(GRI*100, vclGR(GRI) *100, 'k', label= 'Linear')\n",
    "ax.plot(GRI*100, vclGR_claiver(GRI)*100,  '--k', label = 'Claiver')\n",
    "ax.plot(GRI*100, vclGR_steiber(GRI)*100, '-ok', label='Steiber')\n",
    "ax.plot(GRI*100, vclGR_larionov_younger(GRI)*100, '--^k', label='Larionov_Younger')\n",
    "ax.plot(GRI*100, vclGR_larionov_older(GRI)*100, '->k', label='Larionov_Older')\n",
    "ax.grid(True)\n",
    "ax.set_xlabel('GR index (%)', color= 'k')\n",
    "ax.set_xlim(0,100)\n",
    "ax.set_ylim(0,100)\n",
    "ax.set_ylabel('Vsh (%)', color = 'k')\n",
    "ax.tick_params(axis='x', colors= 'k')\n",
    "#ax.xaxis.set_label_position('top')\n",
    "#ax.xaxis.set_ticks_position('top')\n",
    "ax.set_title('Vsh vs GR index', pad =20)\n",
    "ax.legend()\n",
    "plt.tight_layout()\n",
    "plt.savefig('Clay_index_to_Clay_volume_v2.png', dpi =250, format = 'png')\n"
   ]
  },
  {
   "cell_type": "code",
   "execution_count": null,
   "metadata": {},
   "outputs": [
    {
     "ename": "",
     "evalue": "",
     "output_type": "error",
     "traceback": [
      "\u001b[1;31mFailed to start the Kernel. \n",
      "\u001b[1;31mUnable to start Kernel 'base (Python 3.11.5)' due to a timeout waiting for the ports to get used. \n",
      "\u001b[1;31mView Jupyter <a href='command:jupyter.viewOutput'>log</a> for further details."
     ]
    }
   ],
   "source": [
    "# specific zone of interest for histogram creation\n",
    "logs=ip_log[(ip_log.DEPTH >= top_depth) & (ip_log.DEPTH <= bottom_depth)]"
   ]
  },
  {
   "cell_type": "code",
   "execution_count": null,
   "metadata": {},
   "outputs": [
    {
     "ename": "",
     "evalue": "",
     "output_type": "error",
     "traceback": [
      "\u001b[1;31mFailed to start the Kernel. \n",
      "\u001b[1;31mUnable to start Kernel 'base (Python 3.11.5)' due to a timeout waiting for the ports to get used. \n",
      "\u001b[1;31mView Jupyter <a href='command:jupyter.viewOutput'>log</a> for further details."
     ]
    }
   ],
   "source": [
    "# Histogram plot of GR, SP, NPHI, RHOB\n",
    "\n",
    "plt.figure(1, figsize=(8,6))\n",
    "plt.subplot(221)\n",
    "plt.hist(logs.GR.dropna(), bins=15, color='g', edgecolor='k')\n",
    "plt.xlabel('GR[API]')\n",
    "plt.ylabel('Frequency')\n",
    "#plt.xlim(0,150)\n",
    "#plt.grid(True)\n",
    "\n",
    "plt.subplot(222)\n",
    "plt.hist(logs.SP.dropna(), bins=15, color='b', edgecolor='k')\n",
    "plt.xlabel('SP[mv]')\n",
    "plt.ylabel('Frequency')\n",
    "#plt.grid(True)\n",
    "\n",
    "plt.subplot(223)\n",
    "plt.hist(logs.NPHI.dropna(), bins=15, color='c', edgecolor='k')\n",
    "plt.xlabel('NPHI[frac]')\n",
    "plt.ylabel('Frequency')\n",
    "#plt.grid(True)\n",
    "\n",
    "plt.subplot(224)\n",
    "plt.hist(logs.RHOB.dropna(), bins=15, color='r', edgecolor='k')\n",
    "plt.xlabel('RHOB[g/cc]')\n",
    "plt.ylabel('Frequency')\n",
    "#plt.grid(True)\n",
    "\n",
    "#plt.subplots_adjust(top=1.2, bottom=.1, left=0.10, right=0.9, hspace=0.25, wspace=0.35)\n",
    "plt.savefig('histogram_v2.png', dpi =250, format = 'png')"
   ]
  },
  {
   "cell_type": "code",
   "execution_count": null,
   "metadata": {},
   "outputs": [
    {
     "ename": "",
     "evalue": "",
     "output_type": "error",
     "traceback": [
      "\u001b[1;31mFailed to start the Kernel. \n",
      "\u001b[1;31mUnable to start Kernel 'base (Python 3.11.5)' due to a timeout waiting for the ports to get used. \n",
      "\u001b[1;31mView Jupyter <a href='command:jupyter.viewOutput'>log</a> for further details."
     ]
    }
   ],
   "source": [
    "# N-D cross-plot generation; where color represent variation of GR value\n",
    "plt.figure(figsize=(8,6))\n",
    "plt.scatter(logs.NPHI, logs.RHOB, c = logs.GR, marker='o', s=100, edgecolors='w', cmap='jet', vmin=0, vmax=150)\n",
    "plt.xlim(-5, 55); plt.ylim(3, 1.8); plt.xlabel('NPHI[%]'); plt.ylabel('RHOB[g/cc]'); plt.grid(True)\n",
    "plt.colorbar(); plt.title('N-D Crossplot', pad=20); \n",
    "plt.text(15, 2.4, 'clean line', fontsize=12)\n",
    "plt.text(20, 2.6, 'Shale line', fontsize=12)\n",
    "plt.text(40, 2.65, 'Wet clay point', fontsize=12)\n",
    "plt.text(0, 2.8, 'Matrix/Silt\\n point', fontsize=12)\n",
    "plt.plot([0,50],[2.65,2.15], marker='o', color='black')\n",
    "plt.plot([0,45],[2.65,2.4], marker='o', color='red')\n",
    "plt.plot(45,2.4,'ro',color='black')\n",
    "plt.tight_layout()"
   ]
  },
  {
   "cell_type": "code",
   "execution_count": null,
   "metadata": {},
   "outputs": [
    {
     "ename": "",
     "evalue": "",
     "output_type": "error",
     "traceback": [
      "\u001b[1;31mFailed to start the Kernel. \n",
      "\u001b[1;31mUnable to start Kernel 'base (Python 3.11.5)' due to a timeout waiting for the ports to get used. \n",
      "\u001b[1;31mView Jupyter <a href='command:jupyter.viewOutput'>log</a> for further details."
     ]
    }
   ],
   "source": [
    "# define function to compute clay index (Icl) and there after clay volume from Gamma log (GR). \n",
    "#Also required to identify GR_clean, GR_shale zone\n",
    "\n",
    "def vclGR(GRlog, GRclean, GRcl, formation=None):\n",
    "    Icl = (GRlog - GRclean)/(GRclay-GRclean) # clay index computation(Icl)\n",
    "    vclGR_larionov_younger = 0.083 * (2**(3.7* Icl) -1)  # Larionov Equation for Teartiary rock\n",
    "    vclGR_larionov_older = 0.33 *(2**(2*Icl) -1) # Larionov equation for older rocks\n",
    "    vclGR_claiver = 1.7 - (3.38 - (Icl + 0.7)**2)**0.5 # Clavier equation\n",
    "    vclGR_steiber = Icl /(3 - 2*Icl) # Steiber equation\n",
    "    \n",
    "    if (formation == \"young\" or formation == \"tertiary\"):\n",
    "        vclGR =  vclGR_larionov_younger\n",
    "    elif formation == \"older\":\n",
    "        vclGR =  vclGR_larionov_older\n",
    "    elif formation == \"claiver\":\n",
    "        vclGR = vclGR_claiver\n",
    "    elif formation == \"steiber\":\n",
    "        vclGR = vclGR_steiber\n",
    "    else:\n",
    "        vclGR = Icl\n",
    "    return vclGR\n",
    "\n",
    "# computation of volume of clay from SP log: not efficient enough\n",
    "def vclSP(SPlog, SPclean, SPclay):\n",
    "    vclsp = (SPlog - SPclean)/(SPclay - SPclean)\n",
    "    return vclsp\n",
    "\n",
    "# computation of volume of clay from N-D cross plot\n",
    "# we choose wet clay point to obatin neu-clay and rho_clay value\n",
    "def vclND(neu_log, rho_log, rho_matrix,neu_clay, rho_clay, neu_matrix, neu_fluid, rho_fluid ):\n",
    "    a1 = (rho_matrix - rho_fluid)*(neu_matrix - neu_log) - (rho_matrix - rho_log)*(neu_matrix - neu_fluid)\n",
    "    b1 = (rho_matrix - rho_fluid)*(neu_matrix - neu_clay) - (rho_matrix - rho_clay)*(neu_matrix - neu_fluid)\n",
    "    vclND = (a1/b1)\n",
    "    return vclND "
   ]
  },
  {
   "cell_type": "markdown",
   "metadata": {},
   "source": [
    "@ Define value of the parameters for computation of voulme of clay based on histogram and ND-crossplot as shown above.\n",
    "Also have a look on the description of datasets\n"
   ]
  },
  {
   "cell_type": "code",
   "execution_count": null,
   "metadata": {},
   "outputs": [
    {
     "ename": "",
     "evalue": "",
     "output_type": "error",
     "traceback": [
      "\u001b[1;31mFailed to start the Kernel. \n",
      "\u001b[1;31mUnable to start Kernel 'base (Python 3.11.5)' due to a timeout waiting for the ports to get used. \n",
      "\u001b[1;31mView Jupyter <a href='command:jupyter.viewOutput'>log</a> for further details."
     ]
    }
   ],
   "source": [
    "logs.describe()"
   ]
  },
  {
   "cell_type": "code",
   "execution_count": null,
   "metadata": {},
   "outputs": [
    {
     "ename": "",
     "evalue": "",
     "output_type": "error",
     "traceback": [
      "\u001b[1;31mFailed to start the Kernel. \n",
      "\u001b[1;31mUnable to start Kernel 'base (Python 3.11.5)' due to a timeout waiting for the ports to get used. \n",
      "\u001b[1;31mView Jupyter <a href='command:jupyter.viewOutput'>log</a> for further details."
     ]
    }
   ],
   "source": [
    "# defining parameter for clay computation\n",
    "\n",
    "GRclean, GRclay = 35, 150\n",
    "SPclean, SPclay = -35, 1\n",
    "\n",
    "rho_matrix = 2.65 # for sandstone \n",
    "#neu_matrix = \n",
    "neu_clay, rho_clay = 45, 2.4\n",
    "\n",
    "# looping through logs value to compute Vcl from the above defined function\n",
    "\n",
    "# define new_function to store the compute clay values\n",
    "\n",
    "vclGR_temp, vclSP_temp, vclND_temp = [],[],[]\n",
    "\n",
    "\n",
    "for (i,j,k,l) in zip(logs.GR, logs.NPHI, logs.RHOB, logs.SP):\n",
    "    vclGR_temp.append(vclGR(i, GRclean, GRclay))\n",
    "    vclSP_temp.append(vclSP(l, SPclean, SPclay))\n",
    "    vclND_temp.append(vclND(j,k, rho_matrix,neu_clay, rho_clay, neu_matrix=0, neu_fluid=100, rho_fluid=1.1))\n",
    "logs = logs.copy() # copy of the dataframe\n",
    "\n",
    "logs['VCLGR']= vclGR_temp\n",
    "logs['VCLSP']= vclSP_temp\n",
    "logs['VCLND'] = vclND_temp\n",
    "del vclGR_temp, vclSP_temp, vclND_temp"
   ]
  },
  {
   "cell_type": "markdown",
   "metadata": {},
   "source": [
    "We will display all computed clay from from different method along with display of GR, SP log.\n",
    "Also in the same diagram display the histogram"
   ]
  },
  {
   "cell_type": "code",
   "execution_count": null,
   "metadata": {},
   "outputs": [
    {
     "ename": "",
     "evalue": "",
     "output_type": "error",
     "traceback": [
      "\u001b[1;31mFailed to start the Kernel. \n",
      "\u001b[1;31mUnable to start Kernel 'base (Python 3.11.5)' due to a timeout waiting for the ports to get used. \n",
      "\u001b[1;31mView Jupyter <a href='command:jupyter.viewOutput'>log</a> for further details."
     ]
    }
   ],
   "source": [
    "from matplotlib import gridspec\n",
    "fig = plt.figure(figsize=(12,12))\n",
    "fig.suptitle('Clay estimation from different method')\n",
    "fig.subplots_adjust(top= 0.9, wspace= .3, hspace=.2)\n",
    "\n",
    "gs = gridspec.GridSpec(4,3)\n",
    "\n",
    "ax1 = fig.add_subplot(gs[:,0])\n",
    "ax1.set_ylim(top_depth, bottom_depth)\n",
    "ax1.invert_yaxis()\n",
    "ax1.get_xaxis().set_visible(False)\n",
    "ax1.xaxis.set_label_position('top') \n",
    "ax1.xaxis.set_ticks_position('top')\n",
    "ax2 = fig.add_subplot(gs[0,1])\n",
    "ax3 = fig.add_subplot(gs[1,1])\n",
    "ax4 = fig.add_subplot(gs[2,1])\n",
    "ax5 = fig.add_subplot(gs[3,1])\n",
    "ax6 = fig.add_subplot(gs[:,2], sharey=ax1)\n",
    "\n",
    "ax6.get_xaxis().set_visible(False)\n",
    "ax6.xaxis.set_label_position('top') \n",
    "ax6.xaxis.set_ticks_position('top')\n",
    "\n",
    "# plot GR and SP log\n",
    "ax11 = ax1.twiny()\n",
    "ax11.plot(logs.GR, logs.DEPTH, '-g')\n",
    "ax11.set_ylabel('Depth [ft]')\n",
    "ax11.set_xlim(0,150)\n",
    "ax11.spines['top'].set_position(('outward', 0))\n",
    "ax11.plot(logs.GR, logs.DEPTH, '-g', label= \"GR (API)\")\n",
    "ax11.set_xlabel('GR [API]', color= 'g')\n",
    "ax11.tick_params(axis='x', colors='g')\n",
    "ax11.grid(True)\n",
    "\n",
    "ax12 = ax1.twiny()\n",
    "ax12.set_xlim(-100,0)\n",
    "ax12.spines['top'].set_position(('outward', 40))\n",
    "ax12.plot(logs.SP, logs.DEPTH, '-b', label= \"SP (mV)\")\n",
    "ax12.set_xlabel('SP [mV]', color= 'b')\n",
    "ax12.tick_params(axis='x', colors='b')\n",
    "\n",
    "\n",
    "# Histogram\n",
    "\n",
    "ax2.hist(logs.GR.dropna(), bins=15, color='g', edgecolor='k')\n",
    "ax2.set_xlabel('GR[API]')\n",
    "ax2.set_ylabel('Frequency')\n",
    "\n",
    "ax3.hist(logs.SP.dropna(), bins=15, color='b', edgecolor='k')\n",
    "ax3.set_xlabel('SP[mv]')\n",
    "ax3.set_ylabel('Frequency')\n",
    "\n",
    "ax4.hist(logs.RHOB.dropna(), bins=15, color='r', edgecolor='k')\n",
    "ax4.set_xlabel('RHOB[g/cc]')\n",
    "ax4.set_ylabel('Frequency')\n",
    "\n",
    "# N-D cross-plot \n",
    "\n",
    "ax5.scatter(logs.NPHI, logs.RHOB, c = logs.GR, marker='o', s=100, edgecolors='w', cmap='jet', vmin=0, vmax=150)\n",
    "ax5.set_xlim(-5, 55); \n",
    "ax5.set_ylim(3, 1.8); \n",
    "ax5.set_xlabel('NPHI[%]'); \n",
    "ax5.set_ylabel('RHOB[g/cc]'); \n",
    "ax5.grid(True)\n",
    "ax5.text(15, 2.4, 'clean line', fontsize=12)\n",
    "ax5.text(20, 2.6, 'Shale line', fontsize=12)\n",
    "ax5.text(40, 2.65, 'Wet clay \\n point', fontsize=12)\n",
    "ax5.text(0, 2.8, 'Matrix/Silt\\n point', fontsize=12)\n",
    "ax5.plot([0,50],[2.65,2.15], marker='o', color='black')\n",
    "ax5.plot([0,45],[2.65,2.4], marker='o', color='red')\n",
    "ax5.plot(45,2.4,'ro',color='black')\n",
    "\n",
    "\n",
    "# Clay volume plot\n",
    "ax6 = ax6.twiny()\n",
    "ax6.plot(logs.VCLGR, logs.DEPTH, '-g', label='VCLGR')\n",
    "ax6.plot(logs.VCLSP, logs.DEPTH, '-b', label='VCLSP')\n",
    "ax6.plot(logs.VCLND, logs.DEPTH, '-r', label='VCLND')\n",
    "ax6.set_xlim(0,1)\n",
    "ax6.spines['top'].set_position(('outward', 0))\n",
    "ax6.set_xlabel('VCL [frac]', color= 'k')\n",
    "ax6.tick_params(axis='x', colors='g')\n",
    "ax6.set_ylim(bottom_depth, top_depth)\n",
    "ax6.grid(True)\n",
    "ax6.legend(loc='best')\n",
    "plt.savefig('Clay_volume_estimation.png', dpi =250, format = 'png')"
   ]
  },
  {
   "cell_type": "markdown",
   "metadata": {},
   "source": [
    "Now we have estimated clay volume from different method. All estimated Vcaly are plotted ina single track to compare.\n",
    "\n",
    "Good match observed between VclayGR and VclayND\n",
    "Most suitable is to consider minimum of all the method\n",
    "Vclay = min(VCLGR, VCLSP, VCLND); otherwise VCLGR provide good estimate "
   ]
  },
  {
   "cell_type": "code",
   "execution_count": null,
   "metadata": {},
   "outputs": [
    {
     "ename": "",
     "evalue": "",
     "output_type": "error",
     "traceback": [
      "\u001b[1;31mFailed to start the Kernel. \n",
      "\u001b[1;31mUnable to start Kernel 'base (Python 3.11.5)' due to a timeout waiting for the ports to get used. \n",
      "\u001b[1;31mView Jupyter <a href='command:jupyter.viewOutput'>log</a> for further details."
     ]
    }
   ],
   "source": [
    "logs['Vclay']= logs[['VCLGR','VCLSP','VCLND']].min(axis=1) # we are using minimum of all clay estimation"
   ]
  },
  {
   "cell_type": "code",
   "execution_count": null,
   "metadata": {},
   "outputs": [
    {
     "ename": "",
     "evalue": "",
     "output_type": "error",
     "traceback": [
      "\u001b[1;31mFailed to start the Kernel. \n",
      "\u001b[1;31mUnable to start Kernel 'base (Python 3.11.5)' due to a timeout waiting for the ports to get used. \n",
      "\u001b[1;31mView Jupyter <a href='command:jupyter.viewOutput'>log</a> for further details."
     ]
    }
   ],
   "source": [
    "logs['Vclay'].head(5)"
   ]
  },
  {
   "cell_type": "code",
   "execution_count": null,
   "metadata": {},
   "outputs": [
    {
     "ename": "",
     "evalue": "",
     "output_type": "error",
     "traceback": [
      "\u001b[1;31mFailed to start the Kernel. \n",
      "\u001b[1;31mUnable to start Kernel 'base (Python 3.11.5)' due to a timeout waiting for the ports to get used. \n",
      "\u001b[1;31mView Jupyter <a href='command:jupyter.viewOutput'>log</a> for further details."
     ]
    }
   ],
   "source": [
    "logs['VCLGR'].head(5)"
   ]
  },
  {
   "cell_type": "markdown",
   "metadata": {},
   "source": [
    "# 4. Porosity computation"
   ]
  },
  {
   "cell_type": "markdown",
   "metadata": {},
   "source": [
    "Three logs are utalized to compute effective and total porosity:\n",
    "\n",
    "Density logs\n",
    "Sonic logs\n",
    "Neutron logs (normally expressed in Limestone porosity unit)"
   ]
  },
  {
   "cell_type": "code",
   "execution_count": null,
   "metadata": {},
   "outputs": [
    {
     "ename": "",
     "evalue": "",
     "output_type": "error",
     "traceback": [
      "\u001b[1;31mFailed to start the Kernel. \n",
      "\u001b[1;31mUnable to start Kernel 'base (Python 3.11.5)' due to a timeout waiting for the ports to get used. \n",
      "\u001b[1;31mView Jupyter <a href='command:jupyter.viewOutput'>log</a> for further details."
     ]
    }
   ],
   "source": [
    "# -*- coding: utf-8 -*-\n",
    "\"\"\"\n",
    "Created on Tue Oct 23 11:08:17 2018\n",
    "\n",
    "@author: ParthaM\n",
    "Estimation of porosity from Sonic, Density, and Netron log either single\n",
    "or dual combination\n",
    "\"\"\"\n",
    "# Effective porosity if we know clay percentage\n",
    "def PHIE(PHIT, Vclay, PHITCLAY):\n",
    "    '''\n",
    "    # CBW = clay-bound water\n",
    "    PHIT = Total porosity \n",
    "    Vclay = volume of clay minerals\n",
    "    PHITCLAY = apparent toalt porosity of clay\n",
    "    '''\n",
    "    CBW = Vcaly*PHITCLAY \n",
    "    PHIE = PHIT - CBW\n",
    "    return PHIE\n",
    "\n",
    "# Porosity from density log with clay correction\n",
    "    \n",
    "def PHIDT(rho_log, rho_matrix, rho_fluid):\n",
    "    '''\n",
    "    rho_log = from logs\n",
    "    rho_matrix= (SS: 2.65g/cc, LS=2.71g/cc, DL=2.87g/cc)\n",
    "    rho_fluid = (fresh_water 1.0 g/cc, salt_water=1.1g/cc)\n",
    "    rho_clay= bulk density of clay\n",
    "    Vclay = clay volume (frcation)\n",
    "    \n",
    "# we will output PHID, then correct for clay\n",
    "    '''\n",
    "    PHID = (rho_matrix - rho_log)/(rho_matrix - rho_fluid)\n",
    "    return PHID\n",
    "\n",
    "def PHIDT_clay(rho_matrix, rho_fluid, rho_clay):\n",
    "    PHID_clay = (rho_matrix - rho_clay)/(rho_matrix - rho_fluid)\n",
    "    return PHID_clay\n",
    "\n",
    "def PHIDE(rho_log, rho_matrix, rho_fluid, rho_clay, Vclay):\n",
    "    PHID = (rho_matrix - rho_log)/(rho_matrix - rho_fluid)\n",
    "    PHID_clay = (rho_matrix - rho_clay)/(rho_matrix - rho_fluid)\n",
    "    PHID_clay_corr = PHID - Vclay * PHID_clay\n",
    "    return PHID_clay_corr\n",
    "\n",
    "# porosity from sonic logs (Wyllie time-average equation, raymond-hunt_gardner\n",
    "# relation)\n",
    "def PHIST (dt_log, dt_matrix, dt_fluid, dt_clay):\n",
    "    '''\n",
    "    dt_log = from logs us/ft\n",
    "    dt_matrix = (SS: 55.6, LS: 47.5, DL: 43.5)us/ft From Bateman\n",
    "    dt_fluid = (Fresh_w: 200, Salt_w: 189)\n",
    "    dt_casing: 57us/ft\n",
    "    Bcp =  compaction correction factor\n",
    "    '''\n",
    "    Bcp = dt_clay/100\n",
    "    PHIS_W = (1/Bcp)*(dt_log - dt_matrix)/(dt_fluid - dt_matrix)\n",
    "    return PHIS_W\n",
    "\n",
    "def PHIST_clay(dt_matrix, dt_fluid, dt_clay):\n",
    "    PHIS_clay = (dt_clay - dt_matrix)/(dt_fluid - dt_matrix)\n",
    "    return PHIS_clay\n",
    "\n",
    "def PHISE_W(dt_log, dt_matrix, dt_fluid, Bcp, Vclay, dt_clay):\n",
    "    Bcp = dt_clay/100\n",
    "    PHIS_W = (1/Bcp)*(dt_log - dt_matrix)/(dt_fluid - dt_matrix)\n",
    "    PHIST_clay = (dt_clay - dt_matrix)/(dt_fluid - dt_matrix)\n",
    "    PHIS_W_clay_corr = PHIS_W - Vclay *(PHIST_clay)\n",
    "    return PHIS_W_clay_corr\n",
    "# Raymer-Hunt_Gardner empirical relationship to estimate porosity\n",
    "# alpha ranges from 0.625 to .70\n",
    "\n",
    "def PHIST_rhg(dt_log, dt_matrix, alpha, dt_clay):\n",
    "    PHIS_rhg = (alpha) * (dt_log - dt_matrix)/(dt_log)\n",
    "    return PHIS_rhg\n",
    "\n",
    "def PHISE_rhg(dt_log, dt_matrix, Vclay, alpha, dt_clay):\n",
    "    PHIS_rhg = (alpha) * (dt_log - dt_matrix)/(dt_log)\n",
    "    PHIST_clay = (dt_clay - dt_matrix)/(dt_fluid - dt_matrix)\n",
    "    PHIS_rhg_clay_corr = PHIS_rhg - (Vclay *PHIST_clay)\n",
    "    return PHIS_rhg_clay_corr\n",
    "\n",
    "# Netron logs to estimate porosity\n",
    "# correction for matrix if matrix is differ from limestone\n",
    "#neu_log = neu_log - 0.028\n",
    "\n",
    "def PHINE(neu_log, neu_clay, Vclay):\n",
    "    neu_log = neu_log - 0.028\n",
    "    PHIN_clay_corr = neu_log - (neu_clay*Vclay)\n",
    "    return PHIN_clay_corr\n",
    "\n",
    "'''\n",
    "Netron-Density log combination to estimate porosity\n",
    "Require clay corrected neutron and density porosity\n",
    "Here porosity is effective porosity\n",
    "'''\n",
    "def PHIEXND(PHIDE, PHINE):\n",
    "    PHI_ND = (PHIDE + PHINE)/2.0\n",
    "    return PHI_ND\n",
    "\n",
    "'''\n",
    "Gas is present and cross-over visible need to apply correction\n",
    "for porosity computation\n",
    "if PHINclay_corr <PHIDclay_corr; gas is present and cross-obver visible after\n",
    "shale correction \n",
    "'''\n",
    "def PHIEXND_gas_corr(PHIDE, PHINE):\n",
    "    PHIEXND_gas_corr = ((PHIDE**2 + PHINE**2)/2)**0.5\n",
    "    return PHIEXND_gas_corr"
   ]
  },
  {
   "cell_type": "code",
   "execution_count": null,
   "metadata": {},
   "outputs": [
    {
     "ename": "",
     "evalue": "",
     "output_type": "error",
     "traceback": [
      "\u001b[1;31mFailed to start the Kernel. \n",
      "\u001b[1;31mUnable to start Kernel 'base (Python 3.11.5)' due to a timeout waiting for the ports to get used. \n",
      "\u001b[1;31mView Jupyter <a href='command:jupyter.viewOutput'>log</a> for further details."
     ]
    }
   ],
   "source": [
    "# Compute porosity based on supplied values of matrix, fluid and clay property\n",
    "dt_matrix, dt_fluid, dt_clay, alpha = 55.6, 189, 110, 5/8\n",
    "Bcp = 110/100\n",
    "rho_matrix, rho_fluid, rho_clay = 2.65, 1.1, 2.4\n",
    "neu_clay = 45\n",
    "\n",
    "PHIDT_clay(rho_matrix, rho_fluid, rho_clay)\n",
    "PHIST_clay(dt_matrix, dt_fluid, dt_clay)\n",
    "\n",
    "# Calculate Total porosity and Effective porosity by looping though pandas\n",
    "\n",
    "logs['PHIDT'] = PHIDT(logs.RHOB, rho_matrix, rho_fluid)\n",
    "logs['PHIDE'] = PHIDE(logs.RHOB, rho_matrix, rho_fluid, rho_clay, logs.Vclay).clip(0,1)\n",
    "\n",
    "# Sonic logs\n",
    "logs['PHIST']= PHIST(logs.DT, dt_matrix, dt_fluid, dt_clay)\n",
    "logs['PHISE_W'] = PHISE_W(logs.DT, dt_matrix, dt_fluid, Bcp, logs.Vclay, dt_clay).clip(0,1)\n",
    "\n",
    "logs['PHIST_rhg']= PHIST_rhg(logs.DT, dt_matrix, alpha, dt_clay)\n",
    "logs['PHISE_rhg'] = PHISE_rhg(logs.DT, dt_matrix, logs.Vclay, alpha, dt_clay).clip(0,1)\n",
    "\n",
    "# Neutron logs\n",
    "logs['PHINE'] = PHINE(logs.NPHI, neu_clay, logs.Vclay).clip(0,100)\n",
    "\n",
    "# ND dual\n",
    "logs['PHIEXND'] = PHIEXND(logs.PHIDE, logs.PHINE/100).clip(0,1)\n",
    "logs['PHIEXND_gas_cor'] = PHIEXND_gas_corr(logs.PHIDE, logs.PHINE/100).clip(0,1)"
   ]
  },
  {
   "cell_type": "code",
   "execution_count": null,
   "metadata": {},
   "outputs": [
    {
     "ename": "",
     "evalue": "",
     "output_type": "error",
     "traceback": [
      "\u001b[1;31mFailed to start the Kernel. \n",
      "\u001b[1;31mUnable to start Kernel 'base (Python 3.11.5)' due to a timeout waiting for the ports to get used. \n",
      "\u001b[1;31mView Jupyter <a href='command:jupyter.viewOutput'>log</a> for further details."
     ]
    }
   ],
   "source": [
    "# Quick plot of estimated porosity total and effective\n",
    "fig, ax = plt.subplots(nrows=1, ncols=3, figsize=(12,12), sharey=True)\n",
    "fig.suptitle(\"Porosity estimation\", fontsize=22)\n",
    "\n",
    "for axes in ax:\n",
    "    axes.set_ylim (top_depth,bottom_depth)\n",
    "    axes.invert_yaxis()\n",
    "    axes.yaxis.grid(True)\n",
    "    axes.get_xaxis().set_visible(False)\n",
    "\n",
    "# Total porosity log\n",
    "ax11 = ax[0].twiny()\n",
    "ax11.plot(logs.GR, logs.DEPTH, '-g')\n",
    "ax11.set_ylabel('Depth [ft]')\n",
    "ax11.set_xlim(0,150)\n",
    "ax11.spines['top'].set_position(('outward', 0))\n",
    "ax11.plot(logs.GR, logs.DEPTH, '-g', label= \"GR (API)\")\n",
    "ax11.set_xlabel('GR [API]', color= 'g')\n",
    "ax11.tick_params(axis='x', colors='g')\n",
    "ax11.grid(True)\n",
    "\n",
    "ax1 = ax[1].twiny()\n",
    "ax1.plot(logs.PHIDT, logs.DEPTH, 'r', label= 'PHIDT')\n",
    "ax1.plot(logs.PHIST, logs.DEPTH, '--k', label= 'PHIST')\n",
    "ax1.plot(logs.PHIST_rhg, logs.DEPTH, '--c', label= 'PHIST_rhg')\n",
    "ax1.set_ylabel('Depth [ft]')\n",
    "ax1.set_xlim(-.15,.45)\n",
    "ax1.spines['top'].set_position(('outward', 0))\n",
    "ax1.set_xlabel('Total Porosity (Frac)', color= 'k')\n",
    "ax1.tick_params(axis='x', colors='k')\n",
    "ax1.legend(loc='best')\n",
    "ax1.grid(True)\n",
    "\n",
    "\n",
    "\n",
    "# Effective porosity\n",
    "ax4 = ax[2].twiny()\n",
    "ax4.plot(logs.PHIDE, logs.DEPTH, 'b', label= 'PHIDE')\n",
    "#ax4.plot(logs.NPHI/100, logs.DEPTH, 'r', label= 'NeuT')\n",
    "#ax4.plot(logs.PHINE/100, logs.DEPTH, '--c', label= 'PHINE')\n",
    "ax4.plot(logs.PHIEXND, logs.DEPTH, '--k', label= 'PHIEXND')\n",
    "ax4.plot(logs.PHIEXND_gas_cor, logs.DEPTH, '--r', label= 'PHIEXND_gas')\n",
    "ax4.set_ylabel('Depth [ft]')\n",
    "ax4.set_xlim(-.15,.45)\n",
    "ax4.spines['top'].set_position(('outward', 0))\n",
    "ax4.set_xlabel('Effective Porosity (Frac)', color= 'k')\n",
    "ax4.tick_params(axis='x', colors='k')\n",
    "ax4.legend(loc='best')\n",
    "ax4.grid(True)"
   ]
  },
  {
   "cell_type": "code",
   "execution_count": null,
   "metadata": {},
   "outputs": [
    {
     "ename": "",
     "evalue": "",
     "output_type": "error",
     "traceback": [
      "\u001b[1;31mFailed to start the Kernel. \n",
      "\u001b[1;31mUnable to start Kernel 'base (Python 3.11.5)' due to a timeout waiting for the ports to get used. \n",
      "\u001b[1;31mView Jupyter <a href='command:jupyter.viewOutput'>log</a> for further details."
     ]
    }
   ],
   "source": [
    "# Store ND Clay corrected porosity as effective porosity\n",
    "logs['PHIE'] = logs['PHIEXND']"
   ]
  },
  {
   "cell_type": "code",
   "execution_count": null,
   "metadata": {},
   "outputs": [
    {
     "ename": "",
     "evalue": "",
     "output_type": "error",
     "traceback": [
      "\u001b[1;31mFailed to start the Kernel. \n",
      "\u001b[1;31mUnable to start Kernel 'base (Python 3.11.5)' due to a timeout waiting for the ports to get used. \n",
      "\u001b[1;31mView Jupyter <a href='command:jupyter.viewOutput'>log</a> for further details."
     ]
    }
   ],
   "source": [
    "# Vclay vs Clay index plot\n",
    "import math\n",
    "def Icl(GRlog, GRclean, GRclay):\n",
    "    Icl = (GRlog - GRclean)/(GRclay-GRclean)\n",
    "    return Icl\n",
    "logs['CLI'] =Icl(logs.GR, GRclean, GRclay).clip(0,1) \n",
    "GRI = np.arange(0,1.10,.1) # clay index from 0 to 1 with step of .1\n",
    "\n",
    "def vclGR(i):\n",
    "    return i\n",
    "def vclGR_claiver(i):\n",
    "    return 1.7 - ((3.38 - (i + 0.7)**2))**.5\n",
    "def vclGR_steiber(i):\n",
    "    return i /(3 - 2*i)\n",
    "def vclGR_larionov_younger(i):\n",
    "    return 0.083 * (2**(3.7* i) -1)\n",
    "def vclGR_larionov_older(i):\n",
    "    return 0.33 *(2**(2*i) -1)\n",
    "\n",
    "#vclGR = Icl # linear\n",
    "#vclGR_claiver = 1.7 - ((3.38 - (Icl + 0.7)**2))**.5\n",
    "#vclGR_steiber = Icl /(3 - 2*Icl)\n",
    "#vclGR_larionov_younger = 0.083 * (2**(3.7* Icl) -1)\n",
    "#vclGR_larionov_older = 0.33 *(2**(2*Icl) -1)\n",
    "\n",
    "# Icl vs vclGR plot\n",
    "fig, ax = plt.subplots(figsize=(8,8))\n",
    "ax.plot(GRI*100, vclGR(GRI) *100, 'k', label= 'Linear')\n",
    "ax.plot(GRI*100, vclGR_claiver(GRI)*100,  '--k', label = 'Claiver')\n",
    "ax.plot(GRI*100, vclGR_steiber(GRI)*100, '-ok', label='Steiber')\n",
    "ax.plot(GRI*100, vclGR_larionov_younger(GRI)*100, '--^k', label='Larionov_Younger')\n",
    "ax.plot(GRI*100, vclGR_larionov_older(GRI)*100, '->k', label='Larionov_Older')\n",
    "t=ax.scatter(logs.CLI*100, logs.Vclay*100, c= logs.GR, marker='o', s=100, edgecolors='w', cmap='jet', vmin=0, vmax=150)\n",
    "ax.grid(True)\n",
    "ax.set_xlabel('Clay index (%)', color= 'k')\n",
    "ax.set_xlim(0,100)\n",
    "ax.set_ylim(0,100)\n",
    "ax.set_ylabel('Volume of clay (%)', color = 'k')\n",
    "ax.tick_params(axis='x', colors= 'k')\n",
    "#ax.xaxis.set_label_position('top')\n",
    "#ax.xaxis.set_ticks_position('top')\n",
    "ax.set_title('Vcl vs clay index', pad =20)\n",
    "ax.legend()\n",
    "plt.colorbar(t)\n",
    "plt.tight_layout()\n",
    "plt.savefig('Clay_index_to_Clay_volume_WA1.png', dpi =250, format = 'png')\n"
   ]
  },
  {
   "cell_type": "code",
   "execution_count": null,
   "metadata": {},
   "outputs": [
    {
     "ename": "",
     "evalue": "",
     "output_type": "error",
     "traceback": [
      "\u001b[1;31mFailed to start the Kernel. \n",
      "\u001b[1;31mUnable to start Kernel 'base (Python 3.11.5)' due to a timeout waiting for the ports to get used. \n",
      "\u001b[1;31mView Jupyter <a href='command:jupyter.viewOutput'>log</a> for further details."
     ]
    }
   ],
   "source": [
    "# read the core measurement value to compare with log interpretated result\n",
    "da = pd.read_table('Book2.txt', delim_whitespace=True)"
   ]
  },
  {
   "cell_type": "code",
   "execution_count": null,
   "metadata": {},
   "outputs": [
    {
     "ename": "",
     "evalue": "",
     "output_type": "error",
     "traceback": [
      "\u001b[1;31mFailed to start the Kernel. \n",
      "\u001b[1;31mUnable to start Kernel 'base (Python 3.11.5)' due to a timeout waiting for the ports to get used. \n",
      "\u001b[1;31mView Jupyter <a href='command:jupyter.viewOutput'>log</a> for further details."
     ]
    }
   ],
   "source": [
    "da.head(5)"
   ]
  },
  {
   "cell_type": "code",
   "execution_count": null,
   "metadata": {},
   "outputs": [
    {
     "ename": "",
     "evalue": "",
     "output_type": "error",
     "traceback": [
      "\u001b[1;31mFailed to start the Kernel. \n",
      "\u001b[1;31mUnable to start Kernel 'base (Python 3.11.5)' due to a timeout waiting for the ports to get used. \n",
      "\u001b[1;31mView Jupyter <a href='command:jupyter.viewOutput'>log</a> for further details."
     ]
    }
   ],
   "source": [
    "da.describe()"
   ]
  },
  {
   "cell_type": "code",
   "execution_count": null,
   "metadata": {},
   "outputs": [
    {
     "ename": "",
     "evalue": "",
     "output_type": "error",
     "traceback": [
      "\u001b[1;31mFailed to start the Kernel. \n",
      "\u001b[1;31mUnable to start Kernel 'base (Python 3.11.5)' due to a timeout waiting for the ports to get used. \n",
      "\u001b[1;31mView Jupyter <a href='command:jupyter.viewOutput'>log</a> for further details."
     ]
    }
   ],
   "source": [
    "da.columns"
   ]
  },
  {
   "cell_type": "code",
   "execution_count": null,
   "metadata": {},
   "outputs": [
    {
     "ename": "",
     "evalue": "",
     "output_type": "error",
     "traceback": [
      "\u001b[1;31mFailed to start the Kernel. \n",
      "\u001b[1;31mUnable to start Kernel 'base (Python 3.11.5)' due to a timeout waiting for the ports to get used. \n",
      "\u001b[1;31mView Jupyter <a href='command:jupyter.viewOutput'>log</a> for further details."
     ]
    }
   ],
   "source": [
    "# adjust column names and indexing\n",
    "da = da.rename(columns=({'Depth': 'DEPTH'}))"
   ]
  },
  {
   "cell_type": "code",
   "execution_count": null,
   "metadata": {},
   "outputs": [
    {
     "ename": "",
     "evalue": "",
     "output_type": "error",
     "traceback": [
      "\u001b[1;31mFailed to start the Kernel. \n",
      "\u001b[1;31mUnable to start Kernel 'base (Python 3.11.5)' due to a timeout waiting for the ports to get used. \n",
      "\u001b[1;31mView Jupyter <a href='command:jupyter.viewOutput'>log</a> for further details."
     ]
    }
   ],
   "source": [
    "# Quick plot of estimated porosity total and effective and overlay core measurement\n",
    "tops = ('Torok','Pebble SH','Walakpa SS', 'J-Klingak','Barrow SS','Klingak SH','T-Sag River SS', 'Shublik','Basement')\n",
    "tops_depths=(100,1701,2071,2087,2990, 3102,3224,3258,3633)\n",
    "\n",
    "fig, ax = plt.subplots(nrows=1, ncols=3, figsize=(12,12), sharey=True)\n",
    "fig.suptitle(\"Porosity estimation\", fontsize=22)\n",
    "\n",
    "for axes in ax:\n",
    "    axes.set_ylim (top_depth,bottom_depth)\n",
    "    axes.invert_yaxis()\n",
    "    axes.yaxis.grid(True)\n",
    "    axes.get_xaxis().set_visible(False)\n",
    "    for (i,j) in zip(tops_depths,tops):\n",
    "        if ((i>=top_depth) and (i<=bottom_depth)):\n",
    "            axes.axhline(y=i, linewidth=0.5, color='black')\n",
    "            axes.text(0.1, i ,j, horizontalalignment='center',\n",
    "            verticalalignment='center')\n",
    "\n",
    "# Total porosity log\n",
    "ax11 = ax[0].twiny()\n",
    "ax11.plot(logs.GR, logs.DEPTH, '-g')\n",
    "ax11.set_ylabel('Depth [ft]')\n",
    "ax11.set_xlim(0,150)\n",
    "ax11.spines['top'].set_position(('outward', 0))\n",
    "ax11.plot(logs.GR, logs.DEPTH, '-g', label= \"GR (API)\")\n",
    "ax11.set_xlabel('GR [API]', color= 'g')\n",
    "ax11.tick_params(axis='x', colors='g')\n",
    "ax11.grid(True)\n",
    "\n",
    "ax1 = ax[1].twiny()\n",
    "ax1.plot(logs.PHIDT, logs.DEPTH, 'r', label= 'PHIDT')\n",
    "ax1.plot(logs.PHIST, logs.DEPTH, '--k', label= 'PHIST')\n",
    "ax1.plot(logs.PHIST_rhg, logs.DEPTH, '--c', label= 'PHIST_rhg')\n",
    "ax1.scatter(da.Porosity/100, da.DEPTH, marker='o', color ='b', label = 'Core')\n",
    "ax1.set_ylabel('Depth [ft]')\n",
    "ax1.set_xlim(-.15,.45)\n",
    "ax1.spines['top'].set_position(('outward', 0))\n",
    "ax1.set_xlabel('Total Porosity (Frac)', color= 'k')\n",
    "ax1.tick_params(axis='x', colors='k')\n",
    "ax1.legend(loc='best')\n",
    "ax1.grid(True)\n",
    "\n",
    "\n",
    "\n",
    "# Effective porosity\n",
    "ax4 = ax[2].twiny()\n",
    "#ax4.plot(logs.PHIDE, logs.DEPTH, 'b', label= 'PHIDE')\n",
    "#ax4.plot(logs.NPHI/100, logs.DEPTH, 'r', label= 'NeuT')\n",
    "#ax4.plot(logs.PHINE/100, logs.DEPTH, '--c', label= 'PHINE')\n",
    "ax4.plot(logs.PHIEXND, logs.DEPTH, '--k', label= 'PHIEXND')\n",
    "ax4.scatter(da.Porosity/100, da.DEPTH, marker='o', color ='k', label = 'Core')\n",
    "ax4.set_ylabel('Depth [ft]')\n",
    "ax4.set_xlim(-.15,.45)\n",
    "ax4.spines['top'].set_position(('outward', 0))\n",
    "ax4.set_xlabel('Effective Porosity (Frac)', color= 'k')\n",
    "ax4.tick_params(axis='x', colors='k')\n",
    "ax4.legend(loc='best')\n",
    "ax4.grid(True)\n",
    "plt.savefig('WA1_porosity_estimation_core_overlay.png', dpi =250)"
   ]
  },
  {
   "cell_type": "code",
   "execution_count": null,
   "metadata": {},
   "outputs": [
    {
     "ename": "",
     "evalue": "",
     "output_type": "error",
     "traceback": [
      "\u001b[1;31mFailed to start the Kernel. \n",
      "\u001b[1;31mUnable to start Kernel 'base (Python 3.11.5)' due to a timeout waiting for the ports to get used. \n",
      "\u001b[1;31mView Jupyter <a href='command:jupyter.viewOutput'>log</a> for further details."
     ]
    }
   ],
   "source": [
    "# choose every meter of log data\n",
    "logs1 = logs.iloc[::2,:]\n",
    "logs1.head(5)"
   ]
  },
  {
   "cell_type": "code",
   "execution_count": null,
   "metadata": {},
   "outputs": [
    {
     "ename": "",
     "evalue": "",
     "output_type": "error",
     "traceback": [
      "\u001b[1;31mFailed to start the Kernel. \n",
      "\u001b[1;31mUnable to start Kernel 'base (Python 3.11.5)' due to a timeout waiting for the ports to get used. \n",
      "\u001b[1;31mView Jupyter <a href='command:jupyter.viewOutput'>log</a> for further details."
     ]
    }
   ],
   "source": [
    "logs2=logs1[(logs1.DEPTH >= 2071) & (logs1.DEPTH <= 2081)]"
   ]
  },
  {
   "cell_type": "code",
   "execution_count": null,
   "metadata": {},
   "outputs": [
    {
     "ename": "",
     "evalue": "",
     "output_type": "error",
     "traceback": [
      "\u001b[1;31mFailed to start the Kernel. \n",
      "\u001b[1;31mUnable to start Kernel 'base (Python 3.11.5)' due to a timeout waiting for the ports to get used. \n",
      "\u001b[1;31mView Jupyter <a href='command:jupyter.viewOutput'>log</a> for further details."
     ]
    }
   ],
   "source": [
    "logs2.head(5)"
   ]
  },
  {
   "cell_type": "code",
   "execution_count": null,
   "metadata": {},
   "outputs": [
    {
     "ename": "",
     "evalue": "",
     "output_type": "error",
     "traceback": [
      "\u001b[1;31mFailed to start the Kernel. \n",
      "\u001b[1;31mUnable to start Kernel 'base (Python 3.11.5)' due to a timeout waiting for the ports to get used. \n",
      "\u001b[1;31mView Jupyter <a href='command:jupyter.viewOutput'>log</a> for further details."
     ]
    }
   ],
   "source": [
    "# choose similar depth range of core measurement\n",
    "da = da.iloc[1:,]\n",
    "da1 = da[(da.DEPTH >= 2071) & (da.DEPTH <= 2081)]"
   ]
  },
  {
   "cell_type": "code",
   "execution_count": null,
   "metadata": {},
   "outputs": [
    {
     "ename": "",
     "evalue": "",
     "output_type": "error",
     "traceback": [
      "\u001b[1;31mFailed to start the Kernel. \n",
      "\u001b[1;31mUnable to start Kernel 'base (Python 3.11.5)' due to a timeout waiting for the ports to get used. \n",
      "\u001b[1;31mView Jupyter <a href='command:jupyter.viewOutput'>log</a> for further details."
     ]
    }
   ],
   "source": [
    "da1.head(5)"
   ]
  },
  {
   "cell_type": "code",
   "execution_count": null,
   "metadata": {},
   "outputs": [
    {
     "ename": "",
     "evalue": "",
     "output_type": "error",
     "traceback": [
      "\u001b[1;31mFailed to start the Kernel. \n",
      "\u001b[1;31mUnable to start Kernel 'base (Python 3.11.5)' due to a timeout waiting for the ports to get used. \n",
      "\u001b[1;31mView Jupyter <a href='command:jupyter.viewOutput'>log</a> for further details."
     ]
    }
   ],
   "source": [
    "# best fit function definition\n",
    "def best_fit(x, y):\n",
    "    xbar = float(sum(x)/len(x))\n",
    "    ybar = float(sum(y)/len(y))\n",
    "\n",
    "    numer = float(sum([(xi - xbar)*(yi - ybar) for xi, yi in zip(x,y)]))\n",
    "    deno = float(sum([(xi -xbar)**2 for xi in x]))\n",
    "\n",
    "    b1 = float(numer/deno)\n",
    "\n",
    "    b0 = float(ybar - b1 * xbar)\n",
    "    print('best fit line:\\ny = {:.2f} + {:.2f}x'.format(b0, b1))\n",
    "    \n",
    "    return b0, b1"
   ]
  },
  {
   "cell_type": "code",
   "execution_count": null,
   "metadata": {},
   "outputs": [
    {
     "ename": "",
     "evalue": "",
     "output_type": "error",
     "traceback": [
      "\u001b[1;31mFailed to start the Kernel. \n",
      "\u001b[1;31mUnable to start Kernel 'base (Python 3.11.5)' due to a timeout waiting for the ports to get used. \n",
      "\u001b[1;31mView Jupyter <a href='command:jupyter.viewOutput'>log</a> for further details."
     ]
    }
   ],
   "source": [
    "b0 , b1 = best_fit(logs2.PHIEXND, da1.Porosity/100)\n",
    "#plt.figure(figsize=(6,4))\n",
    "plt.scatter(logs2.PHIEXND, da1.Porosity/100, color='k')\n",
    "yfit = [b0 + b1 *xi for xi in logs2.PHIEXND]\n",
    "ybar = float(sum(da1.Porosity/100)/len(da1.Porosity/100))\n",
    "SST = float(sum([(yi - ybar)**2 for yi in da1.Porosity/100]))\n",
    "SSR = float(sum([(yfiti - ybar)**2 for yfiti in yfit ]))\n",
    "Rsqr = float(SSR/SST)\n",
    "\n",
    "plt.plot(logs2.PHIEXND, yfit, 'r', label = 'y = {:.2f} + {:.2f}x'.format(b0, b1))\n",
    "plt.legend()\n",
    "plt.xlabel('Effective Porosity from well-log (frac)')\n",
    "plt.ylabel('Core measured effective porosity (frac)')\n",
    "plt.text(.8*max(logs2.PHIEXND)+.2*min(logs2.PHIEXND),.4*max(da1.Porosity/100)+.2*min(da1.Porosity/100),'$R^2 = %0.2f$'% Rsqr, \n",
    "         fontsize=10)\n",
    "plt.xlim(0, .6)\n",
    "plt.ylim(0, .6)\n",
    "plt.grid(True)\n",
    "plt.tight_layout()"
   ]
  },
  {
   "cell_type": "markdown",
   "metadata": {},
   "source": [
    "# Resitivity of water (Rw) determination"
   ]
  },
  {
   "cell_type": "markdown",
   "metadata": {},
   "source": [
    "Various methods are available for determining the resitivity of the formation water Rw.\n",
    "Ther are as follows:\n",
    "\n",
    "Direct measurement of a water sample\n",
    "Computation from chemical analysis of a water sample\n",
    "Use of the SP (Require mud information)\n",
    "The Rwa technique (Based on Archie's relationship)\n",
    "The ratio technique\n",
    "Various types of crossplots (Logarithamic plot known as Pickett plot)\n",
    "Use of F overlays\n",
    "\n",
    "We will start with Archie's equation\n",
    "\n",
    "Sw^n = (a/PHIE^m)*(Rw/Rt)\n",
    "on log scale\n",
    "\n",
    "nlogSw = log(a) + log(Rw) - m* log (PHIE) - log(Rt)\n",
    "\n",
    "log(Rt) = -m * log(PHIE) + log(aRw) - n*log(Sw)\n",
    "\n",
    "Plot of Rt vs PHIE in a logarithmaic scale gives a liner-plot with slope of -m. We could obtain value of aRw if the plot passes through PHIE = 1, it is 100% Sw line.\n",
    "\n",
    "In 100% bearing formation, log(Sw) = 0\n",
    "\n",
    "We will start with \n",
    "m = 2\n",
    "a = 1\n",
    "n = 2 (Saturation exponent)"
   ]
  },
  {
   "cell_type": "code",
   "execution_count": null,
   "metadata": {},
   "outputs": [
    {
     "ename": "",
     "evalue": "",
     "output_type": "error",
     "traceback": [
      "\u001b[1;31mFailed to start the Kernel. \n",
      "\u001b[1;31mUnable to start Kernel 'base (Python 3.11.5)' due to a timeout waiting for the ports to get used. \n",
      "\u001b[1;31mView Jupyter <a href='command:jupyter.viewOutput'>log</a> for further details."
     ]
    }
   ],
   "source": [
    "Rwa = 0.32 # water restivity from drill stem test\n",
    "vcl_limit=0.1 #volume of clay upper limit for selction of data for graph\n",
    "a = 1\n",
    "m = 2\n",
    "n = 2 \n",
    "\n",
    "import matplotlib.ticker as ticker\n",
    "\n",
    "pickett_figure=plt.figure(figsize=(7,6))\n",
    "plt.title('Pickett Plot'+ ' for VCL < '+str(int(vcl_limit*100))+'%')\n",
    "plt.loglog(logs.ILD[logs.Vclay< vcl_limit],logs.PHIEXND[logs.Vclay< vcl_limit],'ro', label='',color='red')\n",
    "plt.ylim(0.01,1)\n",
    "plt.xlim(0.1,1000)\n",
    "plt.ylabel('PHIE [frac]')\n",
    "plt.xlabel('Rt [ohm-m]')\n",
    "plt.gca().xaxis.set_major_formatter(ticker.FormatStrFormatter(\"%.2f\"))\n",
    "plt.gca().yaxis.set_major_formatter(ticker.FormatStrFormatter(\"%.2f\"))\n",
    "\n",
    "# Saturation line draw\n",
    "sw=(1.0,0.8,0.6,0.4,0.2)\n",
    "phie=(0.01,1)\n",
    "rt=np.zeros((len(sw),len(phie)))\n",
    "                \n",
    "for i in range (0,len(sw)):\n",
    "    for j in range (0,len(phie)):\n",
    "        rt_out=((a*Rwa)/(sw[i]**n)/(phie[j]**m))\n",
    "        rt[i,j]=rt_out      \n",
    "for i in range(0,len(sw)):\n",
    "    plt.plot(rt[i],phie, label='SW '+str(int(sw[i]*100))+'%')\n",
    "    plt.legend (loc='best')\n",
    "\n",
    "plt.grid(True, which='both',ls='-',color='gray')"
   ]
  },
  {
   "cell_type": "markdown",
   "metadata": {},
   "source": [
    "# Water saturation (Sw)"
   ]
  },
  {
   "cell_type": "markdown",
   "metadata": {},
   "source": [
    "Define value of Rw from Picket plot, then use Archie'e equation to estimate saturation"
   ]
  },
  {
   "cell_type": "code",
   "execution_count": null,
   "metadata": {},
   "outputs": [
    {
     "ename": "",
     "evalue": "",
     "output_type": "error",
     "traceback": [
      "\u001b[1;31mFailed to start the Kernel. \n",
      "\u001b[1;31mUnable to start Kernel 'base (Python 3.11.5)' due to a timeout waiting for the ports to get used. \n",
      "\u001b[1;31mView Jupyter <a href='command:jupyter.viewOutput'>log</a> for further details."
     ]
    }
   ],
   "source": [
    "def sw_archie(Rw, Rt, PHIE, a, m, n):\n",
    "    F = a /(PHIE**m)\n",
    "    Swa = (F * Rw/Rt)**(1/n)\n",
    "    return Swa"
   ]
  },
  {
   "cell_type": "code",
   "execution_count": null,
   "metadata": {},
   "outputs": [
    {
     "ename": "",
     "evalue": "",
     "output_type": "error",
     "traceback": [
      "\u001b[1;31mFailed to start the Kernel. \n",
      "\u001b[1;31mUnable to start Kernel 'base (Python 3.11.5)' due to a timeout waiting for the ports to get used. \n",
      "\u001b[1;31mView Jupyter <a href='command:jupyter.viewOutput'>log</a> for further details."
     ]
    }
   ],
   "source": [
    "Rw = Rwa\n",
    "logs['Swa'] = sw_archie(Rw, logs.ILD, logs.PHIEXND, a, m, n).clip(0,1)"
   ]
  },
  {
   "cell_type": "markdown",
   "metadata": {},
   "source": [
    "Bulk Volume of Water [BVW] computed as Sw*PHIE"
   ]
  },
  {
   "cell_type": "code",
   "execution_count": null,
   "metadata": {},
   "outputs": [
    {
     "ename": "",
     "evalue": "",
     "output_type": "error",
     "traceback": [
      "\u001b[1;31mFailed to start the Kernel. \n",
      "\u001b[1;31mUnable to start Kernel 'base (Python 3.11.5)' due to a timeout waiting for the ports to get used. \n",
      "\u001b[1;31mView Jupyter <a href='command:jupyter.viewOutput'>log</a> for further details."
     ]
    }
   ],
   "source": [
    "logs['BVW'] = logs['Swa'] * logs['PHIEXND']\n",
    "logs['matrix'] = 1 - logs.Vclay - logs.PHIEXND"
   ]
  },
  {
   "cell_type": "markdown",
   "metadata": {},
   "source": [
    "# Interpretative plot of caly volume, porosity, saturation"
   ]
  },
  {
   "cell_type": "code",
   "execution_count": null,
   "metadata": {},
   "outputs": [
    {
     "ename": "",
     "evalue": "",
     "output_type": "error",
     "traceback": [
      "\u001b[1;31mFailed to start the Kernel. \n",
      "\u001b[1;31mUnable to start Kernel 'base (Python 3.11.5)' due to a timeout waiting for the ports to get used. \n",
      "\u001b[1;31mView Jupyter <a href='command:jupyter.viewOutput'>log</a> for further details."
     ]
    }
   ],
   "source": [
    "# plot of interpreted logs\n",
    "fig, ax = plt.subplots(nrows=1, ncols=6, figsize=(14,8), sharey=True)\n",
    "fig.suptitle(\"Walakpa-1 Interpretation\", fontsize=22)\n",
    "fig.subplots_adjust(top=0.75,wspace=0.1)\n",
    "    \n",
    "# setting for all axes\n",
    "for axes in ax:\n",
    "    axes.set_ylim (top_depth,bottom_depth)\n",
    "    axes.invert_yaxis()\n",
    "    axes.yaxis.grid(True)\n",
    "    axes.get_xaxis().set_visible(False)\n",
    "    for (i) in tops_depths:\n",
    "        if ((i>=top_depth) and (i<=bottom_depth)):\n",
    "            axes.axhline(y=i, linewidth=0.5, color='black')\n",
    "            \n",
    "for (i,j) in zip(tops_depths,tops):\n",
    "    if ((i>=top_depth) and (i<=bottom_depth)):\n",
    "        ax[0].text(0.2, i ,j, horizontalalignment='center',verticalalignment='center')            \n",
    "            \n",
    "            \n",
    "#First track GR, CALI, SP logs to display\n",
    "ax1 = ax[0].twiny()\n",
    "ax1.set_xlim(-100,0)\n",
    "ax1.spines['top'].set_position(('outward',0))\n",
    "ax1.plot(logs.SP, logs.DEPTH, '-b', label= \"SP (mV)\")\n",
    "ax1.set_xlabel('SP(mV)',color='b')    \n",
    "ax1.tick_params(axis='x', colors='b')\n",
    "ax1.grid(True)\n",
    "        \n",
    "ax2 = ax[0].twiny()\n",
    "ax2.set_xlim(6, 36)\n",
    "ax2.spines['top'].set_position(('outward', 40))\n",
    "ax2.plot(logs.CALI, logs.DEPTH, '--k', label= \"CALI (in)\")\n",
    "ax2.set_xlabel('CALI(in)', color ='k')\n",
    "ax2.tick_params(axis='x', colors='k')\n",
    "        \n",
    "ax3 = ax[0].twiny()\n",
    "ax3.set_xlim(0,150)\n",
    "ax3.spines['top'].set_position(('outward', 80))\n",
    "ax3.plot(logs.GR, logs.DEPTH, '-g', label= \"GR (API)\")\n",
    "ax3.set_xlabel('GR(API)', color= 'g')\n",
    "ax3.tick_params(axis='x', colors='g')\n",
    "        \n",
    "\n",
    "# Second track resitivity plot\n",
    "ax11 = ax[1].twiny()\n",
    "ax11.set_xlim(0.1, 1000)\n",
    "ax11.set_xscale('log')\n",
    "ax11.grid(True)\n",
    "ax11.spines['top'].set_position(('outward', 80))\n",
    "ax11.plot(logs.ILD, logs.DEPTH, '-r', label=\"ILD (m.ohm)\")\n",
    "ax11.set_xlabel('ILD(m.ohm)', color = 'r')\n",
    "ax11.tick_params(axis='x', colors='r')\n",
    "        \n",
    "         \n",
    "ax12 = ax[1].twiny()\n",
    "ax12.set_xlim(0.1, 1000)\n",
    "ax12.set_xscale('log')\n",
    "ax12.spines['top'].set_position(('outward', 40))\n",
    "ax12.plot(logs.ILM, logs.DEPTH, '-m', label= \"ILM (m.ohm)\")\n",
    "ax12.set_xlabel('ILM(m.ohm)', color= 'm')\n",
    "ax12.tick_params(axis='x', colors='m')\n",
    "         \n",
    "ax13 = ax[1].twiny()\n",
    "ax13.set_xlim(0.1, 1000)\n",
    "ax13.set_xscale('log')\n",
    "ax13.spines['top'].set_position(('outward', 0))\n",
    "ax13.plot(logs.LL8, logs.DEPTH, '-k', label=\"LL8 (m.ohm)\")\n",
    "ax13.set_xlabel('RESS(m.ohm)', color = 'k')\n",
    "ax13.tick_params(axis='x', colors='k')\n",
    "         \n",
    "# Third track NPHI, RHO, DT display\n",
    "ax21 = ax[2].twiny()\n",
    "ax21.grid(True)\n",
    "ax21.set_xlim(140,40)\n",
    "ax21.spines['top'].set_position(('outward', 0))\n",
    "ax21.plot(logs.DT, logs.DEPTH, '-b', label= \"DT (us/ft)\")\n",
    "ax21.set_xlabel('DT(us/ft)', color= 'b')\n",
    "ax21.tick_params(axis='x', colors= 'b')\n",
    "        \n",
    "#NPHI         \n",
    "ax22 = ax[2].twiny()\n",
    "ax22.set_xlim(0, 60)\n",
    "ax22.invert_xaxis()\n",
    "ax22.spines['top'].set_position(('outward', 40))\n",
    "ax22.plot(logs.NPHI, logs.DEPTH, '--k', label = \"NPHI (%)\")\n",
    "ax22.set_xlabel('NPHI(%)', color = 'k')\n",
    "ax22.tick_params(axis= 'x', colors='k')\n",
    "         \n",
    "\n",
    "#RHOB\n",
    "ax23 = ax[2].twiny()\n",
    "ax23.set_xlim(1.95, 2.95)\n",
    "ax23.spines['top'].set_position(('outward', 80))\n",
    "ax23.plot(logs.RHOB, logs.DEPTH, '-r', label= \"RHOB (g/cc)\")\n",
    "ax23.set_xlabel('RHOB(g/cc)', color = 'r')\n",
    "ax23.tick_params(axis='x', colors= 'r')\n",
    "\n",
    "# Fourth track :Sw\n",
    "\n",
    "ax31=ax[3].twiny()\n",
    "ax31.grid(True)\n",
    "ax31.set_xlim(1,0)\n",
    "ax31.plot(logs.Swa, logs.DEPTH, label='SWa', color='black',linewidth=0.5)\n",
    "ax31.scatter(da.Sw/100, da.DEPTH, marker='o', color ='k', label = 'Core')\n",
    "ax31.spines['top'].set_position(('outward',0))\n",
    "ax31.set_xlabel('SWa', color='black')    \n",
    "ax31.tick_params(axis='x', colors='black')\n",
    "\n",
    "\n",
    "# Fifth track PHIE, BVW\n",
    "\n",
    "ax41 = ax[4].twiny()\n",
    "ax41.grid(True)\n",
    "ax41.set_xlim(1,0)\n",
    "ax41.plot(logs.PHIEXND, logs.DEPTH, label='PHIE', color='black', linewidth=0.5)\n",
    "ax41.fill_betweenx(logs.DEPTH,0,logs.BVW,color='lightblue')\n",
    "ax41.spines['top'].set_position(('outward',0))\n",
    "ax41.set_xlabel('PHIE', color='black')    \n",
    "ax41.tick_params(axis='x', colors='black')\n",
    "\n",
    "ax42 = ax[4].twiny()\n",
    "ax42.grid(True)\n",
    "ax42.set_xlim(1,0)\n",
    "ax42.plot(logs.BVW, logs.DEPTH, label='BVW', color='black', linewidth=0.5)\n",
    "ax42.fill_betweenx(logs.DEPTH,logs.PHIEXND,logs.BVW,color='red')\n",
    "ax42.spines['top'].set_position(('outward',40))\n",
    "ax42.set_xlabel('BVW', color='black')    \n",
    "ax42.tick_params(axis='x', colors='black')\n",
    "\n",
    "\n",
    "# Sixth track: PHIE, VCL, Matrix\n",
    "\n",
    "ax51 = ax[5].twiny()\n",
    "ax51.set_xlim(1,0)\n",
    "ax51.spines['top'].set_position(('outward',0))\n",
    "ax51.plot(logs.PHIEXND, logs.DEPTH, label='PHIE', color='black',linewidth=0.5)\n",
    "ax51.scatter(da.Porosity/100, da.DEPTH, marker='o', color ='b', label = 'Core')\n",
    "ax51.set_xlabel('PHIE', color='blue')    \n",
    "ax51.tick_params(axis='x', colors='blue')\n",
    "\n",
    "ax52=ax[5].twiny()\n",
    "ax52.set_xlim(0,1)\n",
    "ax52.spines['top'].set_position(('outward',40))\n",
    "ax52.plot(logs.Vclay, logs.DEPTH, label='VCL', color='green',linewidth=0.5)\n",
    "ax52.set_xlabel('VCL', color='green')    \n",
    "ax52.tick_params(axis='x', colors='green')\n",
    "\n",
    "ax53=ax[5].twiny()\n",
    "ax53.set_xlim(1,0)\n",
    "ax53.spines['top'].set_position(('outward',0))\n",
    "ax53.fill_betweenx(logs.DEPTH,0,logs.PHIEXND,color='lightgray',alpha=.5,label='porosity')\n",
    "ax53.fill_betweenx(logs.DEPTH,logs.PHIEXND,1-logs.Vclay,color='orange',alpha=.5,label='matrix')\n",
    "ax53.fill_betweenx(logs.DEPTH,1-logs.Vclay,1,color='lightgreen',alpha=.5,label= 'Vclay')\n",
    "ax53.legend(loc='lower left')\n",
    "#plt.tight_layout()\n",
    "plt.savefig ('Walakpa_interpretation_1940-2180m.png', dpi=200, format='png')\n"
   ]
  },
  {
   "cell_type": "markdown",
   "metadata": {},
   "source": [
    "# Net pay summary over the zone of interest"
   ]
  },
  {
   "cell_type": "code",
   "execution_count": null,
   "metadata": {},
   "outputs": [
    {
     "ename": "",
     "evalue": "",
     "output_type": "error",
     "traceback": [
      "\u001b[1;31mFailed to start the Kernel. \n",
      "\u001b[1;31mUnable to start Kernel 'base (Python 3.11.5)' due to a timeout waiting for the ports to get used. \n",
      "\u001b[1;31mView Jupyter <a href='command:jupyter.viewOutput'>log</a> for further details."
     ]
    }
   ],
   "source": [
    "logs.columns"
   ]
  },
  {
   "cell_type": "code",
   "execution_count": null,
   "metadata": {},
   "outputs": [
    {
     "ename": "",
     "evalue": "",
     "output_type": "error",
     "traceback": [
      "\u001b[1;31mFailed to start the Kernel. \n",
      "\u001b[1;31mUnable to start Kernel 'base (Python 3.11.5)' due to a timeout waiting for the ports to get used. \n",
      "\u001b[1;31mView Jupyter <a href='command:jupyter.viewOutput'>log</a> for further details."
     ]
    }
   ],
   "source": [
    "top_summary = 2050\n",
    "depth_summary = 2100\n",
    "logs3 = logs[(logs.DEPTH >= top_summary) & (logs.DEPTH <= depth_summary)]\n",
    "\n",
    "logs3[['PHIEXND','Swa','BVW','Vclay']].hist(figsize=(8, 6),color = 'b', edgecolor='w', alpha=0.5)\n",
    "print ('ZONE: ', top_summary, 'm -', depth_summary, 'm')\n",
    "print ('Mean values:')\n",
    "logs3[['PHIEXND','Swa','BVW','Vclay']].mean()\n",
    "#plt.savefig('Net_pay_summary.png', dpi=250)"
   ]
  },
  {
   "cell_type": "markdown",
   "metadata": {},
   "source": [
    "# Export calculated logs as a csv file"
   ]
  },
  {
   "cell_type": "code",
   "execution_count": null,
   "metadata": {},
   "outputs": [
    {
     "ename": "",
     "evalue": "",
     "output_type": "error",
     "traceback": [
      "\u001b[1;31mFailed to start the Kernel. \n",
      "\u001b[1;31mUnable to start Kernel 'base (Python 3.11.5)' due to a timeout waiting for the ports to get used. \n",
      "\u001b[1;31mView Jupyter <a href='command:jupyter.viewOutput'>log</a> for further details."
     ]
    }
   ],
   "source": [
    "logs.to_csv('Interpretated_WA1_Well_Logs.csv', encoding='utf-8')"
   ]
  }
 ],
 "metadata": {
  "kernelspec": {
   "display_name": "Python 3",
   "language": "python",
   "name": "python3"
  },
  "language_info": {
   "codemirror_mode": {
    "name": "ipython",
    "version": 3
   },
   "file_extension": ".py",
   "mimetype": "text/x-python",
   "name": "python",
   "nbconvert_exporter": "python",
   "pygments_lexer": "ipython3",
   "version": "3.11.5"
  }
 },
 "nbformat": 4,
 "nbformat_minor": 2
}
